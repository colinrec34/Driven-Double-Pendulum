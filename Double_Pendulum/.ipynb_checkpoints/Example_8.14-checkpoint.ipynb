{
 "cells": [
  {
   "cell_type": "markdown",
   "id": "61590f45",
   "metadata": {},
   "source": [
    "# The Damped, Driven, Double Pendulum with Air Resistance"
   ]
  },
  {
   "cell_type": "markdown",
   "id": "ee451ae7",
   "metadata": {},
   "source": [
    "## Statement of Purpose"
   ]
  },
  {
   "cell_type": "markdown",
   "id": "a52dba7f",
   "metadata": {},
   "source": [
    "The double pendulum is a famous case of chaotic system that is highly sensitive to initial conditions even in the simplest model. The equations of motion that describe the double pendulum can be solved numerically and this chaotic behavior can be observed. The simple model can immediately be extended in a handful of ways: damping, driving and air resistance. This project will investigate combinations of these effects on the double pendulum and study how these extraneous effects impact the chaotic nature of the double pendulum system. Comparisons will be drawn between different combinations of these models, and animations will utilized to directly understand the effects of these model extensions."
   ]
  },
  {
   "cell_type": "markdown",
   "id": "ac4e1cea",
   "metadata": {},
   "source": [
    "## Research Extension Questions: Statement of Purpose\n",
    "- What are the resonance frequencies of the double pendulum where the pivot is being driven along the horizonal axis?"
   ]
  },
  {
   "cell_type": "markdown",
   "id": "8244ef23",
   "metadata": {},
   "source": [
    "## Derivation of the Equations of Motion"
   ]
  },
  {
   "attachments": {
    "Screenshot%202023-04-20%20at%208.30.18%20PM.png": {
     "image/png": "[encoded data removed]"
    }
   },
   "cell_type": "markdown",
   "id": "20f38551",
   "metadata": {},
   "source": [
    "In order the simulate the double pendulum, the equations of motion that describe the system must first be derived. The simplist approach to find these differential equations is the Lagrangian method. The Lagrangian of any system is defined by $L=T-V$, where $T$ is the total kinetic energy and $V$ is the total potential energy. Thus, we must find these by separately finding the kinetic energies of the bobs of the pendulum. ![Screenshot%202023-04-20%20at%208.30.18%20PM.png](attachment:Screenshot%202023-04-20%20at%208.30.18%20PM.png)\n",
    "Defining the angles and masses according to the diagram above, we start by rewriting the cartesian coordinates of the bobs in terms of the polar coordinates in the diagrams. For the y-components, or heights of the bobs, the following coordinate transformations are made.  \n",
    "\n",
    "$$ h_1 =-\\ell \\cos{\\theta_1} h_2=-\\ell (\\cos{\\theta_1)}+\\cos{\\theta_2}) $$  \n",
    "\n",
    "These equations accurately describes the heights of the bobs in terms of the polar coordinates. With these heights, we can find the total potential energy $V$, which is just the sum of the individual gravitational potential energies.  \n",
    "  \n",
    "$$ V = mgh_1+mgh_2 = -mg\\ell(2\\cos{\\theta_1+\\theta_2}+\\cos{\\theta_2})$$\n",
    "\n",
    "Now, we can find the individual kinetic energies. For the first bob, it's linear velocity is simply given by it's angular velocity.  \n",
    "\n",
    "$$v_1 = \\ell\\dot\\theta_1$$  \n",
    "\n",
    "However, $v_2$ is must more involved. First, we break it up into it's cartesian components:  \n",
    "\n",
    "$$v_2^2 = \\dot x^2 + \\dot y^2 $$  \n",
    "\n",
    "Next, we find $x_2$, which is given by  \n",
    "$$x_2 = x_1 + \\ell\\sin{\\theta_2} = \\ell(\\sin{\\theta_1}+\\sin{\\theta_2})$$.  \n",
    "\n",
    "Next, we take it's time derivative\n",
    "$$ \\dot x_2 = \\ell(\\cos{\\theta_1}\\dot\\theta_1+\\cos{\\theta_2}\\dot\\theta_2) $$  \n",
    "and sqaure  \n",
    "$$ \\dot x_2^2 = \\ell^2(\\cos^2{\\theta_1}\\dot\\theta^2_1+\\cos^2{\\theta_2}\\dot\\theta^2_2+2\\dot\\theta_1\\dot\\theta_2\\cos{\\theta_1}\\cos{\\theta_2}) $$. \n",
    "\n",
    "Also, we need to find $\\dot y^2$$.\n",
    "\n",
    "$$ \\dot y = \\ell(\\sin{\\theta_1}\\dot\\theta_1+\\sin{\\theta_2}\\dot\\theta_2)$$  \n",
    "$$ \\dot y^2 = \\ell^2(\\sin^2{\\theta_1}\\dot\\theta^2_1+\\sin^2{\\theta_2}\\dot\\theta^2_2+2\\dot\\theta_1\\dot\\theta_2\\sin{\\theta_1}\\sin{\\theta_2})$$.  \n",
    "\n",
    "Combining these two components, we find $v_2^2$  \n",
    "\n",
    "$$ v_2^2 = \\ell^2(\\cos^2{\\theta_1}\\dot\\theta^2_1+\\cos^2{\\theta_2}\\dot\\theta^2_2+\\sin^2{\\theta_1}\\dot\\theta^2_1+\\sin^2{\\theta_2}\\dot\\theta^2_2+2\\dot\\theta_1\\dot\\theta_2\\cos{\\theta_1}\\cos{\\theta_2}+2\\dot\\theta_1\\dot\\theta_2\\sin{\\theta_1}\\sin{\\theta_2})  $$. \n",
    "\n",
    "In combination with the identity $\\cos{\\theta_1}\\cos{\\theta_2}+\\sin{\\theta_1}\\sin{\\theta_2} = \\cos{(\\theta_1-\\theta_2)}$ this simplifies down to\n",
    "$$ v^2_2 = \\ell^2\\left[\\dot\\theta_1^2+\\dot\\theta_2^2+2\\dot\\theta_1\\dot\\theta_2\\cos(\\theta_1-\\theta_2)\\right]$$.  \n",
    "Now, we can form the total kinetic energy $T$:  \n",
    "\n",
    "$$ T = \\frac{1}{2}m(v^2_1+v^2_2) = m\\ell^2\\left[\\dot\\theta_1^2+\\frac{1}{2}\\dot\\theta^2_2+\\dot\\theta_1\\dot\\theta_2\\cos{(\\theta_1-\\theta_2)}\\right] $$.\n",
    "\n",
    "Finally, we can form the full Lagrangian $L$.   \n",
    "\n",
    "$$L=T-V=m\\ell^2\\left[\\dot\\theta_1^2+\\frac{1}{2}\\theta_2^2+\\dot\\theta_1\\dot\\theta_2\\cos{(\\theta_1-\\theta_2)}\\right] $$.\n",
    "\n",
    "With the Lagrangian, we can find the equations of motion using the Euler-Lagrange Equations:\n",
    "$$ \\frac{d}{dt}\\left(\\frac{\\partial L}{\\partial \\dot{\\theta}_1}\\right) = \\frac{\\partial L}{\\partial \\theta_1}$$\n",
    "\n",
    "$$ \\frac{d}{dt}\\left(\\frac{\\partial L}{\\partial \\dot{\\theta}_2}\\right) = \\frac{\\partial L}{\\partial \\theta_2}\n",
    "$$.\n",
    "\n",
    "Which gives the following equations of motion:\n",
    "\n",
    "$$\n",
    "2 \\ddot{\\theta}_1+\\ddot{\\theta}_2 \\cos \\left(\\theta_1-\\theta_2\\right)+\\dot{\\theta}_2^2 \\sin \\left(\\theta_1-\\theta_2\\right)+2 \\frac{g}{\\ell} \\sin \\theta_1=0\n",
    "$$\n",
    "\n",
    "$$\n",
    "\\ddot{\\theta}_2+\\ddot{\\theta}_1 \\cos \\left(\\theta_1-\\theta_2\\right)-\\dot{\\theta}_1^2 \\sin \\left(\\theta_1-\\theta_2\\right)+\\frac{g}{\\ell} \\sin \\theta_2=0\n",
    "$$.\n",
    "\n",
    "This can be turned into a system of first order differential equations by the following definitions.\n",
    "\n",
    "$$ \\dot\\theta_1=\\omega_1$$ $$\\dot\\theta_2=\\omega_2$$  \n",
    "\n",
    "which changes the equations of motion into the following:\n",
    "\n",
    "$$\n",
    "2 \\dot{\\omega}_1+\\dot{\\omega}_2 \\cos \\left(\\theta_1-\\theta_2\\right)+\\omega_2^2 \\sin \\left(\\theta_1-\\theta_2\\right)+2 \\frac{\\delta}{\\ell} \\sin \\theta_1=0\n",
    "$$\n",
    "\n",
    "$$\n",
    "\\dot{\\omega}_2+\\dot{\\omega}_1 \\cos \\left(\\theta_1-\\theta_2\\right)-\\omega_1^2 \\sin \\left(\\theta_1-\\theta_2\\right)+\\frac{g}{\\ell} \\sin \\theta_2=0\n",
    "$$.\n",
    "\n",
    "Finally, these equations must be rearranged in terms of the first derivatives in order to numerically solve, which finally gives our system of equations.\n",
    "\n",
    "$$\n",
    "\\dot{\\omega}_1=-\\frac{\\omega_1^2 \\sin \\left(2 \\theta_1-2 \\theta_2\\right)+2 \\omega_2^2 \\sin \\left(\\theta_1-\\theta_2\\right)+(g / \\ell)\\left[\\sin \\left(\\theta_1-2 \\theta_2\\right)+3 \\sin \\theta_1\\right]}{3-\\cos \\left(2 \\theta_1-2 \\theta_2\\right)}\n",
    "$$  \n",
    "\n",
    "$$\n",
    "\\dot{\\omega}_2=\\frac{4 \\omega_1^2 \\sin \\left(\\theta_1-\\theta_2\\right)+\\omega_2^2 \\sin \\left(2 \\theta_1-2 \\theta_2\\right)+2(g / \\ell)\\left[\\sin \\left(2 \\theta_1-\\theta_2\\right)-\\sin \\theta_2\\right]}{3-\\cos \\left(2 \\theta_1-2 \\theta_2\\right)}\n",
    "$$  \n",
    "\n",
    "With these 4 first order equations, we can find the numerical solution for the double pendulum system."
   ]
  },
  {
   "cell_type": "markdown",
   "id": "3d24e4b0",
   "metadata": {},
   "source": [
    "### Pseudocode:\n",
    "1. Define the differential equations of motion\n",
    "2. Numerically solve differential equations using RK4\n",
    "3. Plot energy vs. time graph\n",
    "3. Animate numerical solutions"
   ]
  },
  {
   "cell_type": "markdown",
   "id": "a338c230",
   "metadata": {},
   "source": [
    "# Assignment Portion"
   ]
  },
  {
   "cell_type": "markdown",
   "id": "688dfd67",
   "metadata": {},
   "source": [
    "### Part a) Derive an expression for the total energy $E= T + V$ of the system in terms of the variables $\\theta_1$, $\\theta_2$, $\\omega_1$, and $\\omega_2$, plus the constants $g$, $C$, and $m$."
   ]
  },
  {
   "cell_type": "markdown",
   "id": "1d914891",
   "metadata": {},
   "source": [
    "Total Energy is just the Langrangian with the flipped sign\n",
    "$$\n",
    "T = \\frac{1}{2}mv_1^2 + \\frac{1}{2}mv_2^2 = m\\ell^2[\\dot\\theta_1^2+\\dot\\theta_2^2+2\\dot\\theta_1\\dot\\theta_2\\cos({\\theta_1-\\theta_2})] \\\\\n",
    "V = -mg\\ell(2\\cos{\\theta_1}+cos{\\theta_2}) \\\\\n",
    "E=m\\ell^2[\\omega_1^2+\\omega_2^2+2\\omega_1\\omega_2\\cos({\\theta_1-\\theta_2})]-mg\\ell(2\\cos{\\theta_1}+\\cos{\\theta_2})\n",
    "$$"
   ]
  },
  {
   "cell_type": "markdown",
   "id": "12f5757a",
   "metadata": {},
   "source": [
    "### Part b) Write a program using the fourth-order Runge-Kutta method to solve the equations of motion for the case where $\\ell$= 40cm, with the initial conditions $\\theta_1=\\theta_2=90°$ and $\\omega_1 = \\omega_2 = 0$. Use your program to calculate the total energy of the system assuming that the mass of the bobs is 1kg each, and make a graph of energy as a function of time from $t= 0$ to $t= 100$ seconds. \n",
    "#### Because of energy conservation, the total energy should be constant over time (actually it should be zero for these particular initial conditions), but you will find that it is not perfectly constant because of the approximate nature of the solution of the differential equations. Choose a suitable value of the step size $h$ to ensure that the variation in energy is less than $10^{-5}$ joules over the course of the calculation."
   ]
  },
  {
   "cell_type": "code",
   "execution_count": 7,
   "id": "c46603a3",
   "metadata": {
    "scrolled": false
   },
   "outputs": [
    {
     "data": {
      "image/png": "[encoded data removed]",
      "text/plain": [
       "<Figure size 640x480 with 1 Axes>"
      ]
     },
     "metadata": {},
     "output_type": "display_data"
    }
   ],
   "source": [
    "import numpy as np\n",
    "from pylab import plot, xlabel, ylabel, show\n",
    "\n",
    "# Define constants\n",
    "g = 9.81\n",
    "m = 1\n",
    "l = .4\n",
    "\n",
    "# Define derivatives of variables\n",
    "def dotw1(theta1, theta2, w1, w2):\n",
    "    numerator = (w1**2)*np.sin(2*theta1-2*theta2)+2*(w2**2)*np.sin(theta1-theta2)+(g/l)*(np.sin(theta1-(2*theta2))+3*np.sin(theta1))\n",
    "    denominator = 3 - np.cos(2*theta1-2*theta2)\n",
    "    return -numerator/denominator\n",
    "\n",
    "def dotw2(theta1, theta2, w1, w2):\n",
    "    numerator = 4*(w1**2)*np.sin(theta1-theta2)+(w2**2)*np.sin(2*theta1-2*theta2)+2*(g/l)*(np.sin((2*theta1)-theta2)-np.sin(theta2))\n",
    "    denominator = 3 - np.cos(2*theta1-2*theta2)\n",
    "    return numerator/denominator\n",
    "\n",
    "#Define time domain\n",
    "h=0.0015 # Chosen to maintain energy < 10^5 J\n",
    "tpoints = np.arange(0, 100, h)\n",
    "N = len(tpoints)\n",
    "\n",
    "#Defining the RK4 method solution as a function with initial conditions as arguments\n",
    "def RK4(theta1_0, theta2_0, w1_0, w2_0):\n",
    "\n",
    "    # Define solution arrays\n",
    "    theta1points = np.zeros(N)\n",
    "    theta2points = np.zeros(N)\n",
    "    w1points = np.zeros(N)\n",
    "    w2points = np.zeros(N)\n",
    "    energypoints = np.zeros(N)\n",
    "\n",
    "    # Define the initial conditions\n",
    "    theta1points[0] = theta1_0\n",
    "    theta2points[0] = theta2_0\n",
    "    w1points[0] = w1_0\n",
    "    w2points[0] = w2_0\n",
    "    \n",
    "    #Iterate through time domain, generating solutions with RK4 method\n",
    "    for n in range(N-1):\n",
    "        k1theta1 = h * w1points[n]\n",
    "        k1theta2 = h * w2points[n]\n",
    "        k1w1 = h * dotw1(theta1points[n], theta2points[n], w1points[n], w2points[n])\n",
    "        k1w2 = h * dotw2(theta1points[n], theta2points[n], w1points[n], w2points[n])\n",
    "\n",
    "        k2theta1 = h * (w1points[n] + k1w1/2)\n",
    "        k2theta2 = h * (w2points[n] + k1w2/2)\n",
    "        k2w1 = h * dotw1(theta1points[n] + k1theta1/2, theta2points[n] + k1theta2/2, w1points[n] + k1w1/2, w2points[n] + k1w2/2)\n",
    "        k2w2 = h * dotw2(theta1points[n] + k1theta1/2, theta2points[n] + k1theta2/2, w1points[n] + k1w1/2, w2points[n] + k1w2/2)\n",
    "\n",
    "        k3theta1 = h * (w1points[n] + k2w1/2)\n",
    "        k3theta2 = h * (w2points[n] + k2w2/2)\n",
    "        k3w1 = h * dotw1(theta1points[n] + k2theta1/2, theta2points[n] + k2theta2/2, w1points[n] + k2w1/2, w2points[n] + k2w2/2)\n",
    "        k3w2 = h * dotw2(theta1points[n] + k2theta1/2, theta2points[n] + k2theta2/2, w1points[n] + k2w1/2, w2points[n] + k2w2/2)\n",
    "\n",
    "        k4theta1 = h * (w1points[n] + k3w1)\n",
    "        k4theta2 = h * (w2points[n] + k3w2)\n",
    "        k4w1 = h * dotw1(theta1points[n] + k3theta1, theta2points[n] + k3theta2, w1points[n] + k3w1, w2points[n] + k3w2)\n",
    "        k4w2 = h * dotw2(theta1points[n] + k3theta1, theta2points[n] + k3theta2, w1points[n] + k3w1, w2points[n] + k3w2)\n",
    "\n",
    "        theta1points[n+1] = theta1points[n] + (k1theta1 + 2*k2theta1 + 2*k3theta1 + k4theta1)/6\n",
    "        theta2points[n+1] = theta2points[n] + (k1theta2 + 2*k2theta2 + 2*k3theta2 + k4theta2)/6\n",
    "        w1points[n+1] = w1points[n] + (k1w1 + 2*k2w1 + 2*k3w1 + k4w1)/6\n",
    "        w2points[n+1] = w2points[n] + (k1w2 + 2*k2w2 + 2*k3w2 + k4w2)/6\n",
    "\n",
    "        energypoints[n] = (m*(l**2))*((w1points[n]**2)+1/2*(w2points[n]**2)+w1points[n]*w2points[n]*np.cos(theta1points[n]-theta2points[n]))-(m*g*l)*(2*np.cos(theta1points[n])+np.cos(theta2points[n]))\n",
    "    \n",
    "    return [theta1points, theta2points, w2points, w2points, energypoints]\n",
    "\n",
    "#Calling RK4 solition with initial conditions: theta1=pi/2, theta2 = pi/2, w1 = w2 = 0\n",
    "solution = RK4(np.pi/2, np.pi/2, 0, 0)\n",
    "theta1points, theta2points, w2points, w2points, energypoints = solution\n",
    "\n",
    "#Plotting Energy\n",
    "plot(tpoints, energypoints, label=\"energy\")\n",
    "xlabel(\"time\")\n",
    "ylabel(\"energy\")\n",
    "show()"
   ]
  },
  {
   "cell_type": "markdown",
   "id": "290980c4",
   "metadata": {},
   "source": [
    "### Part c)"
   ]
  },
  {
   "cell_type": "code",
   "execution_count": 8,
   "id": "75d4cf63",
   "metadata": {},
   "outputs": [
    {
     "data": {
      "text/html": [
       "<div id=\"glowscript\" class=\"glowscript\"></div>"
      ],
      "text/plain": [
       "<IPython.core.display.HTML object>"
      ]
     },
     "metadata": {},
     "output_type": "display_data"
    },
    {
     "data": {
      "application/javascript": [
       "if (typeof Jupyter !== \"undefined\") { window.__context = { glowscript_container: $(\"#glowscript\").removeAttr(\"id\")};}else{ element.textContent = ' ';}"
      ],
      "text/plain": [
       "<IPython.core.display.Javascript object>"
      ]
     },
     "metadata": {},
     "output_type": "display_data"
    }
   ],
   "source": [
    "from vpython import sphere,vector,canvas,color,cylinder, box, rate\n",
    "import time\n",
    "pivot = box(pos=vector(0,0,0), size = vector(0.2, 0.01, 0.1), color=color.red)\n",
    "bob1 = sphere(color=color.blue)\n",
    "bob1.pos= vector(l,1, 0)\n",
    "bob1.radius = 0.05\n",
    "bob2 = sphere(color=color.blue)\n",
    "bob2.pos= vector(2*l,1, 0)\n",
    "bob2.radius = 0.05\n",
    "string1 = cylinder(pos=pivot.pos, axis=bob1.pos-pivot.pos, color=color.green, radius=0.008)\n",
    "string2 = cylinder(pos=bob1.pos, axis=bob2.pos-bob1.pos, color=color.green, radius=0.008)\n",
    "canvas()\n",
    "\n",
    "#Additional line to allow for adjustment to initial conditions\n",
    "solution = RK4(np.pi/2, np.pi/2, 0, 0)\n",
    "theta1points, theta2points, w2points, w2points, energypoints = solution\n",
    "#Running animation\n",
    "for n in range(N):\n",
    "    rate(300)\n",
    "    #time.sleep(0.5)\n",
    "    x1 = l*np.sin(theta1points[n])\n",
    "    y1 = -l*np.cos(theta1points[n])\n",
    "    x2 = x1+l*np.sin(theta2points[n])\n",
    "    y2 = y1-l*np.cos(theta2points[n])\n",
    "    \n",
    "    bob1.pos = vector(x1, y1, 0)\n",
    "    bob2.pos = vector(x2, y2, 0)\n",
    "    \n",
    "    string1.axis = bob1.pos-pivot.pos\n",
    "    string2.pos = bob1.pos\n",
    "    string2.axis = bob2.pos-bob1.pos"
   ]
  },
  {
   "cell_type": "markdown",
   "id": "58c02744",
   "metadata": {},
   "source": [
    "## Research Extension: Double Pendulum Resonance\n",
    "Next, we can investigate more properties of the double pendulum. In particular, if the pivot of the double pendulum is driven side to side, there should be frequencies at which the pendulums are at resonance: the frequencies of the bobs match the driving frequency of the pivot. A numerical approach can tell us these frequencies."
   ]
  },
  {
   "cell_type": "markdown",
   "id": "52f2789c",
   "metadata": {},
   "source": [
    "## Conclusion\n",
    "\n",
    "In conclusion, the RK4 method successfully generated a numerical solution for the double pendulum. In addition, the resonance frequencies of the pivot-driven double pendulum using numerical techniques."
   ]
  }
 ],
 "metadata": {
  "kernelspec": {
   "display_name": "Python 3 (ipykernel)",
   "language": "python",
   "name": "python3"
  },
  "language_info": {
   "codemirror_mode": {
    "name": "ipython",
    "version": 3
   },
   "file_extension": ".py",
   "mimetype": "text/x-python",
   "name": "python",
   "nbconvert_exporter": "python",
   "pygments_lexer": "ipython3",
   "version": "3.8.15"
  }
 },
 "nbformat": 4,
 "nbformat_minor": 5
}
