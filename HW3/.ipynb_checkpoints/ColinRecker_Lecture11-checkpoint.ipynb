{
 "cells": [
  {
   "cell_type": "markdown",
   "id": "9c5cdfe8",
   "metadata": {},
   "source": [
    "# Textbook Exercise 4.3"
   ]
  },
  {
   "cell_type": "markdown",
   "id": "ad52019b",
   "metadata": {},
   "source": [
    "**a)**"
   ]
  },
  {
   "cell_type": "code",
   "execution_count": 1,
   "id": "f7484945",
   "metadata": {},
   "outputs": [
    {
     "name": "stdout",
     "output_type": "stream",
     "text": [
      "1.010000000000001\n"
     ]
    }
   ],
   "source": [
    "delta = 1e-2\n",
    "#Definition of function at point x\n",
    "def f(x):\n",
    "    return x*(x-1)\n",
    "#Definition of derivative at point x\n",
    "def df(x):\n",
    "    return (f(x+delta)-f(x))/(delta)\n",
    "\n",
    "#Derivative at x=1\n",
    "print(df(1))"
   ]
  },
  {
   "cell_type": "markdown",
   "id": "c1d5ce5b",
   "metadata": {},
   "source": [
    "**ANSWER:** These two don't agree perfectly because we aren't finding the limit as delta goes to 0, we are just making delta very small. This doesn't correspond to the true, analytical derivative of f(1) since we can't compute the true limit."
   ]
  },
  {
   "cell_type": "markdown",
   "id": "8f29b09d",
   "metadata": {},
   "source": [
    "**b)**"
   ]
  },
  {
   "cell_type": "code",
   "execution_count": 2,
   "id": "925dddc3",
   "metadata": {},
   "outputs": [
    {
     "name": "stdout",
     "output_type": "stream",
     "text": [
      "Delta: 0.0001, Derivative: 1.0000999999998899\n",
      "Delta: 1e-06, Derivative: 1.0000009999177333\n",
      "Delta: 1e-08, Derivative: 1.0000000039225287\n",
      "Delta: 1e-10, Derivative: 1.000000082840371\n",
      "Delta: 1e-12, Derivative: 1.0000889005833413\n",
      "Delta: 1e-14, Derivative: 0.9992007221626509\n"
     ]
    }
   ],
   "source": [
    "#Now lowering the deltas:\n",
    "deltas= [1e-4, 1e-6, 1e-8, 1e-10, 1e-12, 1e-14]\n",
    "\n",
    "for delta in deltas:\n",
    "    def df(x):\n",
    "        return (f(x+delta)-f(x))/(delta)\n",
    "    print(f\"Delta: {delta}, Derivative: {df(1)}\")"
   ]
  },
  {
   "cell_type": "markdown",
   "id": "4b004e4b",
   "metadata": {},
   "source": [
    "**ANSWER:** The error initially gets smaller since the delta is getting smaller, but when the delta gets too small there is an underflow where the deltas are approximated by the computer. Thus, the derivative calculation is messed up since the f(x+delta) and 1/delta terms don't represent their true values."
   ]
  },
  {
   "cell_type": "markdown",
   "id": "a4befe18",
   "metadata": {},
   "source": [
    "# Textbook Exercise 4.4"
   ]
  },
  {
   "cell_type": "markdown",
   "id": "b3e68d81",
   "metadata": {},
   "source": [
    "**a)**"
   ]
  },
  {
   "cell_type": "code",
   "execution_count": 3,
   "id": "7d6e5f58",
   "metadata": {},
   "outputs": [
    {
     "name": "stdout",
     "output_type": "stream",
     "text": [
      "1.5691342555492505\n"
     ]
    }
   ],
   "source": [
    "import numpy as np\n",
    "N = 100\n",
    "h=2/N\n",
    "def x(k):\n",
    "    return -1+h*k\n",
    "def y(k):\n",
    "    return np.sqrt(1-x(k)**2)\n",
    "I=0\n",
    "for k in range(N):\n",
    "    I += h*y(k)\n",
    "print(I)"
   ]
  },
  {
   "cell_type": "markdown",
   "id": "4b8f5b3c",
   "metadata": {},
   "source": [
    "**ANSWER:** The two answers differ by around 0.001, which isn't that bad of an approximation."
   ]
  },
  {
   "cell_type": "markdown",
   "id": "343914a9",
   "metadata": {},
   "source": [
    "**b)**"
   ]
  },
  {
   "cell_type": "code",
   "execution_count": 20,
   "id": "5bfac6ce",
   "metadata": {},
   "outputs": [
    {
     "name": "stdout",
     "output_type": "stream",
     "text": [
      "Area = 1.5707963244705254, time: 0.9504342079162598\n"
     ]
    }
   ],
   "source": [
    "import time\n",
    "startTime = time.time()\n",
    "N=799989\n",
    "h=2/N\n",
    "I=0\n",
    "for k in range(N):\n",
    "    I += h*y(k)\n",
    "totalTime = time.time()-startTime\n",
    "print(f\"Area = {I}, time: {totalTime}\")\n"
   ]
  },
  {
   "cell_type": "markdown",
   "id": "7a02c782",
   "metadata": {},
   "source": [
    "**ANSWER:** 799989 is the greatest value for N where the computation time for the sum stays below 1 second. This corresponds to the most accurate value for the area of $1.5707963244$, which doesn't vary from the analytical value until the 8th decimal place. "
   ]
  }
 ],
 "metadata": {
  "kernelspec": {
   "display_name": "Python 3 (ipykernel)",
   "language": "python",
   "name": "python3"
  },
  "language_info": {
   "codemirror_mode": {
    "name": "ipython",
    "version": 3
   },
   "file_extension": ".py",
   "mimetype": "text/x-python",
   "name": "python",
   "nbconvert_exporter": "python",
   "pygments_lexer": "ipython3",
   "version": "3.8.15"
  }
 },
 "nbformat": 4,
 "nbformat_minor": 5
}
