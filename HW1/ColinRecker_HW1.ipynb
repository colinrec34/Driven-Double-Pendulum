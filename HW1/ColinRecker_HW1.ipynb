{
 "cells": [
  {
   "cell_type": "markdown",
   "id": "8ccc7263",
   "metadata": {},
   "source": [
    "# Homework 1: Colin Recker"
   ]
  },
  {
   "cell_type": "markdown",
   "id": "ac06a953",
   "metadata": {},
   "source": [
    "## Exercise 2.2: Altitude of a Satellite\n",
    "A satellite is to be launched into a circular orbit around the Earth so that it orbits the planet\n",
    "once every $T$ seconds."
   ]
  },
  {
   "cell_type": "markdown",
   "id": "6c9742da",
   "metadata": {},
   "source": [
    "**a)** Show that the altitude $h$ above the Earth's surface that the satellite must have is  \n",
    "$$h=\\left(\\frac{GMT^2}{4\\pi^2}\\right)^{1/3}-R$$\n",
    "where $G = 6.67 \\times 10^{-11}$m$^3$kg$^{-1}$s$^{-2}$ is Newton's gravitational constant, $M=5.97 \\times 10^{24}$ kg is the mass of the Earth, and $R=6371$ km is its radius."
   ]
  },
  {
   "cell_type": "markdown",
   "id": "e1d220ad",
   "metadata": {},
   "source": [
    "**ANSWER:**\n",
    "A satellite in circular orbit around Earth experiences a centripetal force described by the following:  \n",
    "$$F_c = m\\frac{v^2}{r}$$\n",
    "This centripetal force is due to the gravitational force:  \n",
    "$$F_g = \\frac{GmM}{r^2}$$.  \n",
    "Setting these equal to each other:  \n",
    "$$\n",
    "\\begin{align}\n",
    "m\\frac{v^2}{r} &= \\frac{GmM}{r^2} \\\\\n",
    "    r &= \\frac{GM}{v^2}\n",
    "\\end{align}\n",
    "$$\n",
    "The linear speed of the satellite is described in terms of the period and the circumference of its orbit $v=\\frac{2\\pi r}{T}$.  \n",
    "Substituting this in for $v$:  \n",
    "$$\n",
    "\\begin{align}\n",
    "r &= \\frac{GM}{\\left(\\frac{2\\pi r}{T}\\right )^2} \\\\\n",
    "r^3 &= \\frac{GMT^2}{4\\pi^2} \\\\\n",
    "r &= \\left(\\frac{GMT^2}{4\\pi^2}\\right)^{1/3}\n",
    "\\end{align}\n",
    "$$  \n",
    "Since r is the radial distance from the center of the Earth, $r$ is given by $r=h-R$\n",
    "Thus, we find the result:  \n",
    "$$h = \\left(\\frac{GMT^2}{4\\pi^2}\\right)^{1/3} - R $$"
   ]
  },
  {
   "cell_type": "markdown",
   "id": "001ca5b5",
   "metadata": {},
   "source": [
    "**b)**\n",
    "Write a program that asks the user to enter the desired value of T and then calculates and\n",
    "prints out the correct altitude in meters."
   ]
  },
  {
   "cell_type": "code",
   "execution_count": 1,
   "id": "28e18f60",
   "metadata": {},
   "outputs": [],
   "source": [
    "import numpy as np"
   ]
  },
  {
   "cell_type": "code",
   "execution_count": 2,
   "id": "c32cb75c",
   "metadata": {},
   "outputs": [],
   "source": [
    "#Defining constants\n",
    "G = 6.67*(10**(-11)) #m^3 kg^-1 s^-2\n",
    "M = 5.97*(10**(24)) #kg\n",
    "R = 6371000 #in meters"
   ]
  },
  {
   "cell_type": "code",
   "execution_count": 3,
   "id": "b6c02a9e",
   "metadata": {},
   "outputs": [],
   "source": [
    "#Altitude function\n",
    "def h(T):\n",
    "    return (G*M*(T**2)/(4*(np.pi**2)))**(1/3) - R"
   ]
  },
  {
   "cell_type": "code",
   "execution_count": 4,
   "id": "0906d5fe",
   "metadata": {},
   "outputs": [
    {
     "name": "stdout",
     "output_type": "stream",
     "text": [
      "Enter a value for a period T (seconds): 100\n",
      "-5905506.655312314 meters in altitude\n"
     ]
    }
   ],
   "source": [
    "#Period input\n",
    "T = float(input(\"Enter a value for a period T (seconds): \"))\n",
    "print(h(T), 'meters in altitude')"
   ]
  },
  {
   "cell_type": "markdown",
   "id": "18af81bc",
   "metadata": {},
   "source": [
    "**c)** \n",
    "Use your program to calculate the altitudes of satellites that orbit the Earth once a day\n",
    "(so-called “geosynchronous” orbit), once every 90 minutes, and once every 45 minutes.\n",
    "What do you conclude from the last of these calculations?"
   ]
  },
  {
   "cell_type": "code",
   "execution_count": 5,
   "id": "292c4d08",
   "metadata": {},
   "outputs": [
    {
     "name": "stdout",
     "output_type": "stream",
     "text": [
      "279321.62537285965 meters for 90 minute period\n",
      "-2181559.8978108233 meters for 45 minute period\n"
     ]
    }
   ],
   "source": [
    "#90 Minutes\n",
    "print(h(90*60), 'meters for 90 minute period')\n",
    "\n",
    "#45 Minutes\n",
    "print (h(45*60), 'meters for 45 minute period')"
   ]
  },
  {
   "cell_type": "markdown",
   "id": "26bb144a",
   "metadata": {},
   "source": [
    "**ANSWER:** Shorter Periods imply smaller altitudes"
   ]
  },
  {
   "cell_type": "markdown",
   "id": "5b5b98a1",
   "metadata": {},
   "source": [
    "**d)** Technically a geosynchronous satellite is one that orbits the Earth once per sidereal day,\n",
    "which is 23.93 hours, not 24 hours. Why is this? And how much difference will it make\n",
    "to the altitude of the satellite?  \n",
    "\n",
    "**ANSWER:** The difference is due to the rotation of the Earth not matching it's orbit around the sun."
   ]
  },
  {
   "cell_type": "code",
   "execution_count": 6,
   "id": "047e3c05",
   "metadata": {},
   "outputs": [
    {
     "name": "stdout",
     "output_type": "stream",
     "text": [
      "For sidereal day (23.93 hours) the altitude is 35773762.329895645 meters\n",
      "For 24-hr day: 35855910.17617497 meters\n",
      "Difference in altitude: 82147.8462793231 meters\n"
     ]
    }
   ],
   "source": [
    "#Sidereal Day\n",
    "print('For sidereal day (23.93 hours) the altitude is', h(23.93*3600), 'meters')\n",
    "print('For 24-hr day:', h(24*3600), 'meters')\n",
    "print('Difference in altitude:', h(24*3600)-h(23.93*3600), 'meters')"
   ]
  },
  {
   "cell_type": "markdown",
   "id": "de8158fc",
   "metadata": {},
   "source": [
    "## Exercise 2.3\n",
    "Write a program to perform the inverse operation to that of Example 2.2. That\n",
    "is, ask the user for the Cartesian coordinates x, y of a point in two-dimensional space, and\n",
    "calculate and print the corresponding polar coordinates, with the angle $\\theta$ given in degrees."
   ]
  },
  {
   "cell_type": "code",
   "execution_count": 7,
   "id": "189cf050",
   "metadata": {},
   "outputs": [
    {
     "name": "stdout",
     "output_type": "stream",
     "text": [
      "x coordinate: 1\n",
      "y coordinate: 1\n",
      "The point (1.0, 1.0) in polar: (1.4142135623730951, 45.0)\n"
     ]
    }
   ],
   "source": [
    "#Cartesian Inputs\n",
    "x = float(input('x coordinate: '))\n",
    "y = float(input('y coordinate: '))\n",
    "\n",
    "#Conversion function\n",
    "def cart_to_polar(x, y):\n",
    "    #mapping x, y to r\n",
    "    r = np.sqrt(x**2 + y**2)\n",
    "    #mapping x, y to theta\n",
    "    theta = np.arctan(y/x)\n",
    "    #returning r and theta (in degrees)\n",
    "    return r, np.degrees(theta)\n",
    "\n",
    "r, theta = cart_to_polar(x, y)\n",
    "\n",
    "print(f'The point ({x}, {y}) in polar:', f'({r}, {theta})')"
   ]
  },
  {
   "cell_type": "markdown",
   "id": "a95bc4ff",
   "metadata": {},
   "source": [
    "## Exercise 2.5: Quantum Potential Step\n",
    "A well-known quantum mechanics problem involves a particle of mass m that encounters a\n",
    "one-dimensional potential step, like this:\n",
    "\n",
    "![alt text](2.5.png)\n",
    "\n",
    "The particle with initial kinetic energy $E$ and wavevector $k_1 = \\frac{\\sqrt{2mE}}{\\hbar}$ enters from the left and encounters a sudden jump in potential energy of height $V$ at position $x = 0$. By solving the Schrödinger equation, one can show that when $E > V$ the particle may either (a) pass the step,\n",
    "in which case it has a lower kinetic energy of $E − V$ on the other side and a correspondingly\n",
    "smaller wavevector of $k_2 = \\frac{\\sqrt{2m(E − V)}}{\\hbar}$, or (b) it may be reflected, keeping all of its kinetic energy and an unchanged wavevector but moving in the opposite direction. The probabilities\n",
    "$T$ and $R$ for transmission and reflection are given by  \n",
    "$T=\\frac{4k_1k_2}{(k_1+k_2)^2}$, $R=\\left(\\frac{k_1-k_2}{k_1+k_2}\\right)^2$  \n",
    "Suppose we have a particle with mass equal to the electron mass $m = 9.11 \\times 10^{−31}$ kg and\n",
    "energy 10 eV encountering a potential step of height 9 eV. Write a Python program to compute\n",
    "and print out the transmission and reflection probabilities using the formulas above."
   ]
  },
  {
   "cell_type": "code",
   "execution_count": 8,
   "id": "04a9719a",
   "metadata": {},
   "outputs": [],
   "source": [
    "#Constants\n",
    "m = 9.11e-31 #kg\n",
    "E = 10 #eV\n",
    "V = 9 #eV\n",
    "h_bar = 6.58e-16"
   ]
  },
  {
   "cell_type": "code",
   "execution_count": 9,
   "id": "0bc67234",
   "metadata": {},
   "outputs": [],
   "source": [
    "#Calculating k_1 and k_2\n",
    "k_1 = np.sqrt(2*m*E)/h_bar\n",
    "k_2 = np.sqrt(2*m*(E-V))/h_bar\n",
    "\n",
    "#Transmission/Reflection Probabilities\n",
    "T = (4*k_1*k_2)/((k_1+k_2)**2)\n",
    "R = ((k_1-k_2)/(k_1+k_2))**2"
   ]
  },
  {
   "cell_type": "code",
   "execution_count": 10,
   "id": "bce25160",
   "metadata": {
    "scrolled": true
   },
   "outputs": [
    {
     "name": "stdout",
     "output_type": "stream",
     "text": [
      "Transmission Probability: 0.7301261363877615\n",
      "Reflection Probability: 0.26987386361223825\n"
     ]
    }
   ],
   "source": [
    "print(f'Transmission Probability: {T}')\n",
    "print(f'Reflection Probability: {R}')"
   ]
  },
  {
   "cell_type": "markdown",
   "id": "7f5fa755",
   "metadata": {},
   "source": [
    "## Exercise 2.6: Planetary Orbits"
   ]
  },
  {
   "cell_type": "markdown",
   "id": "1f18788f",
   "metadata": {},
   "source": [
    "The orbit in space of one body around another, such as a planet around the Sun, need not be circular. In general it takes the form of an ellipse, with the body sometimes closer in and sometimes further out. If you are given the distance $\\ell_1$ of closest approach that a planet makes to the Sun, also called its *perihelion*, and its linear velocity $v_1$ at perihelion, then any other property of the orbit can be calculated from these two as follows."
   ]
  },
  {
   "cell_type": "markdown",
   "id": "6d2da618",
   "metadata": {},
   "source": [
    "**a)** Kepler’s second law tells us that the distance $\\ell_2$ and velocity $v_2$ of the planet at its most\n",
    "distant point, or aphelion, satisfy $\\ell_2v_2 = \\ell_1v_1$. At the same time the total energy, kinetic\n",
    "plus gravitational, of a planet with velocity v and distance r from the Sun is given by  \n",
    "$E=\\frac{1}{2}mv^2-G\\frac{mM}{r}$,  \n",
    "where $m$ is the planet's mass, $M=1.98 \\times 10^{30}$ kg is the mass of the Sun, and $G=6.6738 \\times 10^{-11}$ m$^3$kg$^{-1}$s$^{-2}$ is Newton's gravitational constant. Given that energy must be conserved, show that $v_2$ is the smaller root of the quadratic equation  \n",
    "$v_2^2-\\frac{2GM}{v_1\\ell_1}v_2-\\left[v_1^2-\\frac{2GM}{\\ell_1}\\right]=0$.  \n",
    "Once we have $v_2$ we can calculate $\\ell_2$ using the relation $\\ell_2=\\ell_1v_1/v_2$."
   ]
  },
  {
   "cell_type": "markdown",
   "id": "6b8cae9f",
   "metadata": {},
   "source": [
    "**ANSWER:**\n",
    "First, we find the total energy at the aphelion ($\\ell_1$) and perihelion($\\ell_2$):\n",
    "$E_1 = \\frac{1}{2}mv_1^2-G\\frac{mM}{\\ell_1} \\\\\n",
    " E_2 = \\frac{1}{2}mv_2^2-G\\frac{mM}{\\ell_2}$\n",
    "By conservation of energy, we can set these equivalent to each other:  \n",
    "$$\n",
    "\\begin{align}\n",
    "    \\frac{1}{2}mv_1^2-G\\frac{mM}{\\ell_1} &= \\frac{1}{2}mv_2^2-G\\frac{mM}{\\ell_2} \\\\\n",
    "    \\frac{1}{2}v_1^2-\\frac{1}{2}v_2^2 &= G\\frac{M}{\\ell_1}-G\\frac{M}{\\ell_2} \\\\\n",
    "    v_1^2-v_2^2 &= \\frac{2GM}{\\ell_1}-\\frac{2GM}{\\ell_2} \\\\\n",
    "    v_2^2 - v_1^2 + \\frac{2GM}{\\ell_1}-\\frac{2GM}{\\ell_2} &= 0\n",
    "\\end{align}\n",
    "$$\n",
    "By the relation $\\ell_2=\\ell_1v_1/v_2$,  \n",
    "$$\n",
    "\\begin{align}\n",
    "    v_2^2 - v_1^2 + \\frac{2GM}{\\ell_1}-\\frac{2GM}{\\frac{\\ell_1v_1}{v_2}} &= 0 \\\\\n",
    "    v_2^2 - \\frac{2GM}{\\ell_1v_1}v_2 - \\left[v_1^2 - \\frac{2GM}{\\ell_1}\\right] &= 0\n",
    "\\end{align}\n",
    "$$\n"
   ]
  },
  {
   "cell_type": "markdown",
   "id": "8df64aa1",
   "metadata": {},
   "source": [
    "**b)** Given the values of $v_1$, $\\ell_1$, and $\\ell_2$, other parameters of the orbit are given by simple formulas can that be derived from Kepler's laws and the fact the orbit is an ellipse:  \n",
    "Semi-major axis: $a=\\frac{1}{2}(\\ell_1+\\ell_2)$  \n",
    "Semi-minor axis: $b=\\sqrt{\\ell_1\\ell_2}$  \n",
    "Orbital period: $T=\\frac{2\\pi ab}{l_1v_1}$\n",
    "Orbital eccentricity: $e=\\frac{\\ell_2-\\ell_1}{\\ell_2+\\ell_1}$  \n",
    "Test your program that asks the user to enter the distance to the Sun and velocity at perihelion, then calculates and prints the quantities $\\ell_2$, $v_2$, $T$, and $e$."
   ]
  },
  {
   "cell_type": "code",
   "execution_count": 11,
   "id": "d7b980f5",
   "metadata": {},
   "outputs": [
    {
     "name": "stdout",
     "output_type": "stream",
     "text": [
      "Enter v_1 (m/s): 10\n",
      "Enter l_1 (m): 10\n"
     ]
    }
   ],
   "source": [
    "#Constants/Inputs Definitions\n",
    "M = 1.9891e30 #kg\n",
    "G = 6.6738e-11 \n",
    "v_1 = float(input(\"Enter v_1 (m/s): \"))\n",
    "l_1 = float(input(\"Enter l_1 (m): \"))"
   ]
  },
  {
   "cell_type": "code",
   "execution_count": 12,
   "id": "43d25cb1",
   "metadata": {},
   "outputs": [],
   "source": [
    "#Quadratic formula function\n",
    "def quadratic(a, b, c):\n",
    "    positive = (-b+np.sqrt(b**2-4*a*c))/(2*a)\n",
    "    negative = (-b-np.sqrt(b**2-4*a*c))/(2*a)\n",
    "    return positive, negative"
   ]
  },
  {
   "cell_type": "code",
   "execution_count": 13,
   "id": "1d73d6bb",
   "metadata": {},
   "outputs": [],
   "source": [
    "#Function that returns orbit properties\n",
    "def orbit_props(v_1, l_1):\n",
    "    v_2 = min(quadratic(1, (-2*G*M)/(v_1*l_1), -(v_1**2-(2*G*M/l_1))))\n",
    "    l_2 = l_1*v_1/v_2\n",
    "    a = 0.5*(l_1+l_2)\n",
    "    b = np.sqrt(l_1*l_2)\n",
    "    T = (2*np.pi*a*b)/(l_1*v_1)\n",
    "    e = (l_2-l_1)/(l_2+l_1)\n",
    "    print(f'l_2: {l_2} m\\nv_2: {v_2} m/s\\nT: {T} s\\ne: {e}')\n",
    "    return v_2, l_2, a, b, T, e"
   ]
  },
  {
   "cell_type": "markdown",
   "id": "5673d051",
   "metadata": {},
   "source": [
    "**c)** Test your program by having it calculate the properties of the orbits of the Earth (for\n",
    "which $\\ell_1 = 1.4710 × 10^{11}$ m and $v_1 = 3.0287 × 10^{4}$ ms$^{−1}$) and Halley’s comet ($\\ell_1 =\n",
    "8.7830 × 10^{10}$ m and $v_1 = 5.4529 × 10^{4}$ ms$^{−1}$). Among other things, you should find that\n",
    "the orbital period of the Earth is one year and that of Halley’s comet is about 76 years."
   ]
  },
  {
   "cell_type": "code",
   "execution_count": 14,
   "id": "da04044e",
   "metadata": {
    "scrolled": true
   },
   "outputs": [
    {
     "name": "stdout",
     "output_type": "stream",
     "text": [
      "Earth:\n",
      "l_2: 152027197208.65994 m\n",
      "v_2: 29305.39917726127 m/s\n",
      "T: 31543060.207886923 s\n",
      "e: 0.01647191313474219\n",
      "Earth Period (yr): 1.0002238777234564 \n",
      "\n",
      "Halley's Comet:\n",
      "l_2: 5282214660876.441 m\n",
      "v_2: 906.6806969191493 m/s\n",
      "T: 2399312511.8451877 s\n",
      "e: 0.9672889126454061\n",
      "Halley's Comet Period (yr): 76.0817006546546\n"
     ]
    }
   ],
   "source": [
    "#Earth's Orbital Properties:\n",
    "print(\"Earth:\") \n",
    "earth = orbit_props(3.0287e4, 1.471e11)\n",
    "print(f\"Earth Period (yr): {earth[4]/3600/24/365} \\n\")\n",
    "#Halley's Comet\n",
    "print(\"Halley's Comet:\")\n",
    "comet = orbit_props(5.4529e4, 8.783e10)\n",
    "print(f\"Halley's Comet Period (yr): {comet[4]/3600/24/365}\")"
   ]
  },
  {
   "cell_type": "markdown",
   "id": "c847dd09",
   "metadata": {},
   "source": [
    "## Exercise 2.7: Catalan Numbers"
   ]
  },
  {
   "cell_type": "markdown",
   "id": "33e3547e",
   "metadata": {},
   "source": [
    "The Catalan numbers Cn are a sequence of integers 1, 1, 2, 5, 14, 42, 132...that play an important\n",
    "role in quantum mechanics and the theory of disordered systems. (They were central to Eugene\n",
    "Wigner’s proof of the so-called semicircle law.) They are given by  \n",
    "$C_0=1$, $C_{n+1}=\\frac{4n+2}{n+2}C_n$  \n",
    "Write a program that prints in increasing order all Catalan numbers less than or equal to one billion."
   ]
  },
  {
   "cell_type": "code",
   "execution_count": 15,
   "id": "3b8f48d5",
   "metadata": {},
   "outputs": [
    {
     "name": "stdout",
     "output_type": "stream",
     "text": [
      "1\n",
      "2\n",
      "5\n",
      "14\n",
      "42\n",
      "132\n",
      "429\n",
      "1430\n",
      "4862\n",
      "16796\n",
      "58786\n",
      "208012\n",
      "742900\n",
      "2674440\n",
      "9694845\n",
      "35357670\n",
      "129644790\n",
      "477638700\n",
      "1767263190\n"
     ]
    }
   ],
   "source": [
    "#Catalan Numbers <=1e9\n",
    "n = 0\n",
    "c = 1\n",
    "while c < 1e9:\n",
    "    c = int((4*n+2)/(n+2)*c)\n",
    "    n += 1\n",
    "    print(c)"
   ]
  },
  {
   "cell_type": "markdown",
   "id": "47cceb10",
   "metadata": {},
   "source": [
    "## A very useful trick!"
   ]
  },
  {
   "cell_type": "markdown",
   "id": "826ee72c",
   "metadata": {},
   "source": [
    "Start with an empty list (r=\\[\\]). Create a while loop from MIN to MAX in steps of 1. Choose a function (sqrt, exponential, trig function, etc.). On each loop compute the value of that function (using the index; value = sqrt(MIN), sqrt(MIN+1), etc). Use the append function to add these values as elements of the list r (r.append(value))."
   ]
  },
  {
   "cell_type": "code",
   "execution_count": 16,
   "id": "11af6b7c",
   "metadata": {},
   "outputs": [
    {
     "name": "stdout",
     "output_type": "stream",
     "text": [
      "[0.0, 1.0, 1.4142, 1.7321, 2.0, 2.2361, 2.4495, 2.6458, 2.8284, 3.0]\n"
     ]
    }
   ],
   "source": [
    "r = []\n",
    "MIN = 0\n",
    "MAX = 10\n",
    "step = 1\n",
    "while MIN!=MAX:\n",
    "    r.append(round(np.sqrt(MIN), 4))\n",
    "    MIN += step\n",
    "print(r)"
   ]
  },
  {
   "cell_type": "markdown",
   "id": "334aca4d",
   "metadata": {},
   "source": [
    "## Exercise: Projectile motion\n",
    "* Ask the user to input an initial velocity and launch angle, theta\n",
    "*Use a while loop to compute the x and y coordinates of a projectile as a function of time.  \n",
    "$x =x_0+v_{0x}t\\text{       }$         $v_{0x}=v_{0x}\\cos(\\theta)$  \n",
    "$y =y_0+v_{0x}t+0.5(9.8)t^2\\text{       }$         $v_{0y}=v_{0y}\\sin(\\theta)$\n",
    "*Try adjusting the time step for each iteration so it takes a few seconds to run the calculation. \n",
    "*Print data in three columns: t, x, y."
   ]
  },
  {
   "cell_type": "code",
   "execution_count": 17,
   "id": "2b8ae166",
   "metadata": {},
   "outputs": [
    {
     "name": "stdout",
     "output_type": "stream",
     "text": [
      "Initial velocity: 10\n",
      "Launch angle: 10\n",
      "t:\tx:\ty:\n",
      "0\t0.0\t0.0\n"
     ]
    }
   ],
   "source": [
    "#Constants/Inputs\n",
    "v_0 = float(input(\"Initial velocity: \"))\n",
    "theta = float(input(\"Launch angle: \"))\n",
    "x_0 = 0\n",
    "y_0 = 0\n",
    "\n",
    "def x(t):\n",
    "    return x_0+v_0*np.cos(theta)*t\n",
    "def y(t):\n",
    "    return y_0+v_0*np.sin(theta)*t-0.5*(9.8)*(t**2)\n",
    "\n",
    "#Time interval:\n",
    "t = 0\n",
    "t_max = 100\n",
    "step = 0.001\n",
    "print(\"t:\\tx:\\ty:\")\n",
    "while y(t) >= 0:\n",
    "    print(f\"{round(t, 3)}\\t{round(x(t),2)}\\t{round(y(t), 2)}\")\n",
    "    t+= step"
   ]
  },
  {
   "cell_type": "markdown",
   "id": "a09e0738",
   "metadata": {},
   "source": [
    "## Exercise 2.8: Arrays and order of operations"
   ]
  },
  {
   "cell_type": "markdown",
   "id": "2bf650ee",
   "metadata": {},
   "source": [
    "Suppose arrays a and b are defined as follows:\n",
    "```python\n",
    "from numpy import array\n",
    "a = array([1, 2, 3, 4], int)\n",
    "b = array([1, 2, 3, 4], int)\n",
    "```\n",
    "What will the computer print upon executing the following lines? (Try to work out the answer before trying it on the computer.)"
   ]
  },
  {
   "cell_type": "code",
   "execution_count": 18,
   "id": "ec5a6e01",
   "metadata": {},
   "outputs": [],
   "source": [
    "#Initializing arrays\n",
    "from numpy import array\n",
    "a = array([1, 2, 3, 4], int)\n",
    "b = array([2, 4, 6, 8], int)"
   ]
  },
  {
   "cell_type": "markdown",
   "id": "9b01c771",
   "metadata": {},
   "source": [
    "**a)**"
   ]
  },
  {
   "cell_type": "code",
   "execution_count": 19,
   "id": "86fbfc0b",
   "metadata": {},
   "outputs": [
    {
     "name": "stdout",
     "output_type": "stream",
     "text": [
      "[3. 3. 3. 3.]\n"
     ]
    }
   ],
   "source": [
    "print(b/a+1)"
   ]
  },
  {
   "cell_type": "markdown",
   "id": "f160a1f1",
   "metadata": {},
   "source": [
    "**b)**"
   ]
  },
  {
   "cell_type": "code",
   "execution_count": 20,
   "id": "a75a477d",
   "metadata": {},
   "outputs": [
    {
     "name": "stdout",
     "output_type": "stream",
     "text": [
      "[1.         1.33333333 1.5        1.6       ]\n"
     ]
    }
   ],
   "source": [
    "print(b/(a+1))"
   ]
  },
  {
   "cell_type": "markdown",
   "id": "4cb86d12",
   "metadata": {},
   "source": [
    "**c)**"
   ]
  },
  {
   "cell_type": "code",
   "execution_count": 21,
   "id": "2e2582dc",
   "metadata": {},
   "outputs": [
    {
     "name": "stdout",
     "output_type": "stream",
     "text": [
      "[1.         0.5        0.33333333 0.25      ]\n"
     ]
    }
   ],
   "source": [
    "print(1/a)"
   ]
  },
  {
   "cell_type": "markdown",
   "id": "c558b45e",
   "metadata": {},
   "source": [
    "## Exercise 2.9: The Madelung Constant\n",
    "In condensed matter physics the Madelung constant gives the total electric potential felt by\n",
    "an atom in a solid. It depends on the charges on the other atoms nearby and their locations.  \n",
    "Consider for instance solid sodium chloride—table salt. The sodium chloride crystal has atoms\n",
    "arranged on a cubic lattice, but with alternating sodium and chlorine atoms, the sodium ones\n",
    "having a single positive charge +e and the chlorine ones a single negative charge −e, where e is\n",
    "the charge on the electron. If we label each position on the lattice by three integer coordinates\n",
    "(i, j, k), then the sodium atoms fall at positions where i + j + k is even, and the chlorine atoms\n",
    "at positions where i + j + k is odd.\n",
    "Consider a sodium atom at the origin, i = j = k = 0, and let us calculate the Madelung\n",
    "constant. If the spacing of atoms on the lattice is a, then the distance from the origin to the atom\n",
    "at position (i, j, k) is \n",
    "$\\sqrt{(ia)^2+(jb)^2+(kc)^2}=a\\sqrt{i^2+j^2+k^2}$  \n",
    "and the potential at the origin created by such an atom is  \n",
    "$V(i, j, k) = \\pm\\frac{e}{4\\pi\\epsilon_0a\\sqrt{i^2+k^2+k^2}}$  \n",
    "with $\\epsilon_0$ being the permittivity of the vacuum and the sign of the expression depending on\n",
    "whether $i + j + k$ is even or odd. The total potential felt by the sodium atom is then the sum of\n",
    "this quantity over all other atoms. Let us assume a cubic box around the sodium at the origin,\n",
    "with $L$ atoms in all directions. Then  \n",
    "$V_{total} = \\sum_{i,j,k=-L}^{L} V(i,j,k) = \\frac{e}{4\\pi\\epsilon_0a}M$,  \n",
    "where $M$ is the Madelung constant, at least approximately—technically the Madelung constant\n",
    "is the value of $M$ when $L \\rightarrow \\infty$, but one can get a good approximation just by using a large\n",
    "value of $L$.  \n",
    "    Write a program to calculate and print the Madelung constant for sodium chloride. Use as\n",
    "large a value of L as you can, while still having your program run in reasonable time—say in a\n",
    "minute or less."
   ]
  },
  {
   "cell_type": "code",
   "execution_count": 22,
   "id": "216764c4",
   "metadata": {},
   "outputs": [
    {
     "name": "stdout",
     "output_type": "stream",
     "text": [
      "-1.7418198158396148\n"
     ]
    }
   ],
   "source": [
    "#Madelung Constant (Triple Sum)\n",
    "L = 100\n",
    "M = 0\n",
    "for i in range(-L, L+1):\n",
    "    for j in range(-L, L+1):\n",
    "        for k in range(-L, L+1):\n",
    "            if (i**2+j**2+k**2) == 0:\n",
    "                pass\n",
    "            elif (i+j+k)%2 == 0:\n",
    "                M += (i**2+j**2+k**2)**(-1/2)\n",
    "            else:\n",
    "                M -= (i**2+j**2+k**2)**(-1/2)\n",
    "print(M)"
   ]
  },
  {
   "cell_type": "markdown",
   "id": "c6f6cdfb",
   "metadata": {},
   "source": [
    "## Exercise 2.10 The Semi-Empirical Mass Formula\n",
    "In nuclear physics, the semi-empirical mass formula is a formula for calculating the approx-\n",
    "imate nuclear binding energy $B$ of an atomic nucleus with atomic number $Z$ and mass number $A$:  \n",
    "$B=a_1A-a_2A^{2/3}-\\frac{a_3Z^2}{A^{1/3}}-a_4\\frac{(A-2Z)^2}{A}+\\frac{a_5}{A^{1/2}}$, where, in units of millions of electron volts, the constants are $a_1 = 15.8$, $a_2 = 18.3$, $a_3 = 0.714$, $a_4 = 23.2$, and  \n",
    "$$a_5 = \\begin{cases}\n",
    "    0 & \\text{if $A$ is odd,} \\\\ \n",
    "    12.0  & \\text{if $A$ and $Z$ are both even,} \\\\\n",
    "    -12.0 & \\text{if $A$ is even and $Z$ is odd.}\n",
    "\\end{cases}\n",
    "$$"
   ]
  },
  {
   "cell_type": "markdown",
   "id": "7041fef6",
   "metadata": {},
   "source": [
    "**a)** Write a program that takes as its input the values of $A$ and $Z$, and prints out the binding\n",
    "energy for the corresponding atom. Use your program to find the binding energy of an\n",
    "atom with $A = 58$ and $Z = 28$. (Hint: The correct answer is around 490 MeV.)"
   ]
  },
  {
   "cell_type": "code",
   "execution_count": 23,
   "id": "b1099ac7",
   "metadata": {},
   "outputs": [
    {
     "name": "stdout",
     "output_type": "stream",
     "text": [
      "Enter A: 58\n",
      "Enter Z :28\n",
      "Binding energy: 497.5620206224374 MeV\n"
     ]
    }
   ],
   "source": [
    "A = float(input(\"Enter A: \"))\n",
    "Z = int(input(\"Enter Z :\"))\n",
    "a_1 = 15.8 #MeV\n",
    "a_2 = 18.3 #MeV\n",
    "a_3 = 0.714 #MeV\n",
    "a_4 = 23.2 #MeV\n",
    "\n",
    "def BE(A, Z):\n",
    "    if A%2 == 1:\n",
    "        a_5 = 0\n",
    "    elif Z%2 == 0:\n",
    "        a_5 = 12.0\n",
    "    else:\n",
    "        a_5 = -12.0\n",
    "    return (a_1*A)-a_2*(A**(2/3))-a_3*(Z**2)/(A**(1/3))-a_4*((A-(2*Z))**2)/(A)+a_5/(A**(1/2)) \n",
    "bind = BE(A, Z)\n",
    "print(f\"Binding energy: {bind} MeV\")"
   ]
  },
  {
   "cell_type": "markdown",
   "id": "1d08c446",
   "metadata": {},
   "source": [
    "**b)**\n",
    "Modify your program to print out not the total binding energy B, but the binding energy\n",
    "per nucleon, which is B/A."
   ]
  },
  {
   "cell_type": "code",
   "execution_count": 24,
   "id": "86c81d05",
   "metadata": {},
   "outputs": [
    {
     "name": "stdout",
     "output_type": "stream",
     "text": [
      "Binding energy per nucleon: 8.578655527973059 MeV/nucleon\n"
     ]
    }
   ],
   "source": [
    "#Binding energy per nucleon\n",
    "print(f\"Binding energy per nucleon: {bind/A} MeV/nucleon\")"
   ]
  },
  {
   "cell_type": "markdown",
   "id": "35de9421",
   "metadata": {},
   "source": [
    "**c)**\n",
    "Now modify your program so that it takes as input just a single value of the atomic\n",
    "number $Z$ and then goes through all values of $A$ from $A = Z$ to $A = 3Z$, to find the one\n",
    "that has the largest binding energy per nucleon. This is the most stable nucleus with the\n",
    "given atomic number. Have your program print out the value of $A$ for this most stable\n",
    "nucleus and the value of the binding energy per nucleon."
   ]
  },
  {
   "cell_type": "code",
   "execution_count": 25,
   "id": "60cdcfbb",
   "metadata": {},
   "outputs": [
    {
     "name": "stdout",
     "output_type": "stream",
     "text": [
      "Enter an atomic number Z: 28\n",
      "The highest energy is at A=62 with energy 8.70245768367189 MeV\n"
     ]
    }
   ],
   "source": [
    "#Most stable nucleon\n",
    "Z = int(input(\"Enter an atomic number Z: \"))\n",
    "def findBind(Z):\n",
    "    energies_per = {}\n",
    "    for A in range(Z, 3*Z+1):\n",
    "        energies_per[A] = BE(A, Z)/A\n",
    "    A = max(energies_per, key=energies_per.get)\n",
    "    energy = max(energies_per.values())\n",
    "    return A, energy\n",
    "print(f\"The highest energy is at A={findBind(Z)[0]} with energy {findBind(Z)[1]} MeV\")"
   ]
  },
  {
   "cell_type": "markdown",
   "id": "e899ff36",
   "metadata": {},
   "source": [
    "**d)**\n",
    "Modify your program again so that, instead of taking $Z$ as input, it runs through all\n",
    "values of $Z$ from 1 to 100 and prints out the most stable value of $A$ for each one. At what\n",
    "value of $Z$ does the maximum binding energy per nucleon occur? (The true answer, in\n",
    "real life, is $Z = 28$, which is nickel.)"
   ]
  },
  {
   "cell_type": "code",
   "execution_count": 33,
   "id": "5ca7d3c3",
   "metadata": {},
   "outputs": [
    {
     "name": "stdout",
     "output_type": "stream",
     "text": [
      "The highest energy/nucleon with Z=1 is at A=3 with energy 0.36869091831015793 MeV/nucleon\n",
      "The highest energy/nucleon with Z=2 is at A=4 with energy 5.321930578649441 MeV/nucleon\n",
      "The highest energy/nucleon with Z=3 is at A=7 with energy 5.280168164356119 MeV/nucleon\n",
      "The highest energy/nucleon with Z=4 is at A=8 with energy 6.466330085889912 MeV/nucleon\n",
      "The highest energy/nucleon with Z=5 is at A=11 with energy 6.650123444727665 MeV/nucleon\n",
      "The highest energy/nucleon with Z=6 is at A=14 with energy 7.200918138809924 MeV/nucleon\n",
      "The highest energy/nucleon with Z=7 is at A=15 with energy 7.330860591990982 MeV/nucleon\n",
      "The highest energy/nucleon with Z=8 is at A=18 with energy 7.719275577459026 MeV/nucleon\n",
      "The highest energy/nucleon with Z=9 is at A=19 with energy 7.736977682756342 MeV/nucleon\n",
      "The highest energy/nucleon with Z=10 is at A=22 with energy 8.035350864715019 MeV/nucleon\n",
      "The highest energy/nucleon with Z=11 is at A=25 with energy 8.025554739665797 MeV/nucleon\n",
      "The highest energy/nucleon with Z=12 is at A=26 with energy 8.241172535624845 MeV/nucleon\n",
      "The highest energy/nucleon with Z=13 is at A=29 with energy 8.240988355754636 MeV/nucleon\n",
      "The highest energy/nucleon with Z=14 is at A=30 with energy 8.37916169002579 MeV/nucleon\n",
      "The highest energy/nucleon with Z=15 is at A=33 with energy 8.38521415855582 MeV/nucleon\n",
      "The highest energy/nucleon with Z=16 is at A=36 with energy 8.489230168218935 MeV/nucleon\n",
      "The highest energy/nucleon with Z=17 is at A=37 with energy 8.48201495174352 MeV/nucleon\n",
      "The highest energy/nucleon with Z=18 is at A=40 with energy 8.573405285254953 MeV/nucleon\n",
      "The highest energy/nucleon with Z=19 is at A=43 with energy 8.551826855569242 MeV/nucleon\n",
      "The highest energy/nucleon with Z=20 is at A=44 with energy 8.627152167121634 MeV/nucleon\n",
      "The highest energy/nucleon with Z=21 is at A=47 with energy 8.610130576802973 MeV/nucleon\n",
      "The highest energy/nucleon with Z=22 is at A=48 with energy 8.6585154571142 MeV/nucleon\n",
      "The highest energy/nucleon with Z=23 is at A=51 with energy 8.645234048730842 MeV/nucleon\n",
      "The highest energy/nucleon with Z=24 is at A=54 with energy 8.687306583887372 MeV/nucleon\n",
      "The highest energy/nucleon with Z=25 is at A=55 with energy 8.662703971015583 MeV/nucleon\n",
      "The highest energy/nucleon with Z=26 is at A=58 with energy 8.701432576808985 MeV/nucleon\n",
      "The highest energy/nucleon with Z=27 is at A=61 with energy 8.678053678353882 MeV/nucleon\n",
      "The highest energy/nucleon with Z=28 is at A=62 with energy 8.70245768367189 MeV/nucleon\n",
      "The highest energy/nucleon with Z=29 is at A=65 with energy 8.681907349580422 MeV/nucleon\n",
      "The highest energy/nucleon with Z=30 is at A=68 with energy 8.701580328486784 MeV/nucleon\n",
      "The highest energy/nucleon with Z=31 is at A=69 with energy 8.675012598311142 MeV/nucleon\n",
      "The highest energy/nucleon with Z=32 is at A=72 with energy 8.693433639739787 MeV/nucleon\n",
      "The highest energy/nucleon with Z=33 is at A=75 with energy 8.668156247337208 MeV/nucleon\n",
      "The highest energy/nucleon with Z=34 is at A=76 with energy 8.67683411103597 MeV/nucleon\n",
      "The highest energy/nucleon with Z=35 is at A=79 with energy 8.653727479263061 MeV/nucleon\n",
      "The highest energy/nucleon with Z=36 is at A=82 with energy 8.66141248935323 MeV/nucleon\n",
      "The highest energy/nucleon with Z=37 is at A=85 with energy 8.633940444065898 MeV/nucleon\n",
      "The highest energy/nucleon with Z=38 is at A=86 with energy 8.639441275530453 MeV/nucleon\n",
      "The highest energy/nucleon with Z=39 is at A=89 with energy 8.613815033672552 MeV/nucleon\n",
      "The highest energy/nucleon with Z=40 is at A=92 with energy 8.614514461544127 MeV/nucleon\n",
      "The highest energy/nucleon with Z=41 is at A=93 with energy 8.587741675710747 MeV/nucleon\n",
      "The highest energy/nucleon with Z=42 is at A=96 with energy 8.588337807352417 MeV/nucleon\n",
      "The highest energy/nucleon with Z=43 is at A=99 with energy 8.561488033970443 MeV/nucleon\n",
      "The highest energy/nucleon with Z=44 is at A=102 with energy 8.557428804696526 MeV/nucleon\n",
      "The highest energy/nucleon with Z=45 is at A=103 with energy 8.531857077904819 MeV/nucleon\n",
      "The highest energy/nucleon with Z=46 is at A=106 with energy 8.52785864674169 MeV/nucleon\n",
      "The highest energy/nucleon with Z=47 is at A=109 with energy 8.500490244095234 MeV/nucleon\n",
      "The highest energy/nucleon with Z=48 is at A=110 with energy 8.4940569666179 MeV/nucleon\n",
      "The highest energy/nucleon with Z=49 is at A=113 with energy 8.46797678166812 MeV/nucleon\n",
      "The highest energy/nucleon with Z=50 is at A=116 with energy 8.460713172533021 MeV/nucleon\n",
      "The highest energy/nucleon with Z=51 is at A=119 with energy 8.433224407343122 MeV/nucleon\n",
      "The highest energy/nucleon with Z=52 is at A=120 with energy 8.424696665334825 MeV/nucleon\n",
      "The highest energy/nucleon with Z=53 is at A=123 with energy 8.398332486638505 MeV/nucleon\n",
      "The highest energy/nucleon with Z=54 is at A=126 with energy 8.388689453442952 MeV/nucleon\n",
      "The highest energy/nucleon with Z=55 is at A=129 with energy 8.361310553455423 MeV/nucleon\n",
      "The highest energy/nucleon with Z=56 is at A=130 with energy 8.350819725669146 MeV/nucleon\n",
      "The highest energy/nucleon with Z=57 is at A=133 with energy 8.32443069811602 MeV/nucleon\n",
      "The highest energy/nucleon with Z=58 is at A=136 with energy 8.313019639868703 MeV/nucleon\n",
      "The highest energy/nucleon with Z=59 is at A=139 with energy 8.285884693887583 MeV/nucleon\n",
      "The highest energy/nucleon with Z=60 is at A=140 with energy 8.273583815729522 MeV/nucleon\n",
      "The highest energy/nucleon with Z=61 is at A=143 with energy 8.247327458286065 MeV/nucleon\n",
      "The highest energy/nucleon with Z=62 is at A=146 with energy 8.234582872513133 MeV/nucleon\n",
      "The highest energy/nucleon with Z=63 is at A=149 with energy 8.207769087134613 MeV/nucleon\n",
      "The highest energy/nucleon with Z=64 is at A=150 with energy 8.193813966434627 MeV/nucleon\n",
      "The highest energy/nucleon with Z=65 is at A=153 with energy 8.167786207290451 MeV/nucleon\n",
      "The highest energy/nucleon with Z=66 is at A=156 with energy 8.154024477520512 MeV/nucleon\n",
      "The highest energy/nucleon with Z=67 is at A=159 with energy 8.127574530301825 MeV/nucleon\n",
      "The highest energy/nucleon with Z=68 is at A=162 with energy 8.11278037767185 MeV/nucleon\n",
      "The highest energy/nucleon with Z=69 is at A=163 with energy 8.086373082934724 MeV/nucleon\n",
      "The highest energy/nucleon with Z=70 is at A=166 with energy 8.071829365612306 MeV/nucleon\n",
      "The highest energy/nucleon with Z=71 is at A=169 with energy 8.045764583108769 MeV/nucleon\n",
      "The highest energy/nucleon with Z=72 is at A=172 with energy 8.030368571593026 MeV/nucleon\n",
      "The highest energy/nucleon with Z=73 is at A=175 with energy 8.004105311543137 MeV/nucleon\n",
      "The highest energy/nucleon with Z=74 is at A=176 with energy 7.988369073415251 MeV/nucleon\n",
      "The highest energy/nucleon with Z=75 is at A=179 with energy 7.962697427019249 MeV/nucleon\n",
      "The highest energy/nucleon with Z=76 is at A=182 with energy 7.946838055684514 MeV/nucleon\n",
      "The highest energy/nucleon with Z=77 is at A=185 with energy 7.921016888554693 MeV/nucleon\n",
      "The highest energy/nucleon with Z=78 is at A=188 with energy 7.904575879934101 MeV/nucleon\n",
      "The highest energy/nucleon with Z=79 is at A=191 with energy 7.87868400232803 MeV/nucleon\n",
      "The highest energy/nucleon with Z=80 is at A=192 with energy 7.862438691993173 MeV/nucleon\n",
      "The highest energy/nucleon with Z=81 is at A=195 with energy 7.837047201045294 MeV/nucleon\n",
      "The highest energy/nucleon with Z=82 is at A=198 with energy 7.82033857608665 MeV/nucleon\n",
      "The highest energy/nucleon with Z=83 is at A=201 with energy 7.794899333942829 MeV/nucleon\n",
      "The highest energy/nucleon with Z=84 is at A=204 with energy 7.777785761025879 MeV/nucleon\n",
      "The highest energy/nucleon with Z=85 is at A=205 with energy 7.75239433360284 MeV/nucleon\n",
      "The highest energy/nucleon with Z=86 is at A=208 with energy 7.735485475322137 MeV/nucleon\n",
      "The highest energy/nucleon with Z=87 is at A=211 with energy 7.710478810144078 MeV/nucleon\n",
      "The highest energy/nucleon with Z=88 is at A=214 with energy 7.693222175964614 MeV/nucleon\n",
      "The highest energy/nucleon with Z=89 is at A=217 with energy 7.668228396728228 MeV/nucleon\n",
      "The highest energy/nucleon with Z=90 is at A=220 with energy 7.65068598823387 MeV/nucleon\n",
      "The highest energy/nucleon with Z=91 is at A=223 with energy 7.625739835440575 MeV/nucleon\n",
      "The highest energy/nucleon with Z=92 is at A=224 with energy 7.608214013689897 MeV/nucleon\n",
      "The highest energy/nucleon with Z=93 is at A=227 with energy 7.583639834526779 MeV/nucleon\n",
      "The highest energy/nucleon with Z=94 is at A=230 with energy 7.566035830526522 MeV/nucleon\n",
      "The highest energy/nucleon with Z=95 is at A=233 with energy 7.5415108314640555 MeV/nucleon\n",
      "The highest energy/nucleon with Z=96 is at A=236 with energy 7.523703637516344 MeV/nucleon\n",
      "The highest energy/nucleon with Z=97 is at A=239 with energy 7.499251800171257 MeV/nucleon\n",
      "The highest energy/nucleon with Z=98 is at A=242 with energy 7.481279349508352 MeV/nucleon\n",
      "The highest energy/nucleon with Z=99 is at A=243 with energy 7.456937323389022 MeV/nucleon\n",
      "The highest energy/nucleon with Z=100 is at A=246 with energy 7.439122944429214 MeV/nucleon\n",
      "8.70245768367189\n"
     ]
    }
   ],
   "source": [
    "Zdict = {}\n",
    "for Z in range(1, 101):\n",
    "    Zdict[Z] = findBind(Z)\n",
    "    A, energy_per = Zdict[Z]\n",
    "    print(f\"The highest energy/nucleon with Z={Z} is at A={A} with energy {energy_per} MeV/nucleon\")\n",
    "energyper = max([energy[1] for energy in list(Zdict.values())])\n",
    "print(energyper)"
   ]
  },
  {
   "cell_type": "markdown",
   "id": "6021071c",
   "metadata": {},
   "source": [
    "## Exercise 2.11: Binomial Coefficients\n",
    "The binomial coefficient $\\binom{n}{k}$ is an integer equal to  \n",
    "$\\binom{n}{k}=\\frac{n!}{k!(n-k)!}=\\frac{n\\times(n-1)\\times(n-2)\\times...\\times(n-k+1)}{1\\times2\\times...\\times k}$  \n",
    "when $k\\ge1$, or $\\binom{n}{0}=1$ when $k=0$."
   ]
  },
  {
   "cell_type": "markdown",
   "id": "858d4b33",
   "metadata": {},
   "source": [
    "**a)** \n",
    "Using this form for the binomial coefficient, write a user-defined function ```binomial(n,k)```\n",
    "that calculates the binomial coefficient for given n and k. Make sure your function returns\n",
    "the answer in the form of an integer (not a float) and gives the correct value of 1 for the\n",
    "case where $k = 0$."
   ]
  },
  {
   "cell_type": "code",
   "execution_count": 27,
   "id": "8cece490",
   "metadata": {},
   "outputs": [
    {
     "name": "stdout",
     "output_type": "stream",
     "text": [
      "15\n"
     ]
    }
   ],
   "source": [
    "def binomial(n, k):\n",
    "    numerator = np.math.factorial(n)\n",
    "    denominator = np.math.factorial(k)*\n",
    "    return int(np.math.factorial(n)/(np.math.factorial(k)*np.math.factorial(n-k)))\n",
    "print(binomial(6, 2))"
   ]
  },
  {
   "cell_type": "markdown",
   "id": "ef46d6da",
   "metadata": {},
   "source": [
    "**b)**\n",
    "Using your function write a program to print out the first 20 lines of “Pascal’s triangle.”\n",
    "The nth line of Pascal’s triangle contains n + 1 numbers, which are the coefficients $\\binom{n}{0}$,\n",
    "$\\binom{n}{1}$, and so on up to $\\binom{n}{n}$. Thus the first few lines are  \n",
    "1 1  \n",
    "1 2 1  \n",
    "1 3 3 1  \n",
    "1 4 6 4 1"
   ]
  },
  {
   "cell_type": "code",
   "execution_count": 28,
   "id": "f54e6f69",
   "metadata": {},
   "outputs": [
    {
     "name": "stdout",
     "output_type": "stream",
     "text": [
      "1 1 \n",
      "1 2 1 \n",
      "1 3 3 1 \n",
      "1 4 6 4 1 \n",
      "1 5 10 10 5 1 \n",
      "1 6 15 20 15 6 1 \n",
      "1 7 21 35 35 21 7 1 \n",
      "1 8 28 56 70 56 28 8 1 \n",
      "1 9 36 84 126 126 84 36 9 1 \n",
      "1 10 45 120 210 252 210 120 45 10 1 \n",
      "1 11 55 165 330 462 462 330 165 55 11 1 \n",
      "1 12 66 220 495 792 924 792 495 220 66 12 1 \n",
      "1 13 78 286 715 1287 1716 1716 1287 715 286 78 13 1 \n",
      "1 14 91 364 1001 2002 3003 3432 3003 2002 1001 364 91 14 1 \n",
      "1 15 105 455 1365 3003 5005 6435 6435 5005 3003 1365 455 105 15 1 \n",
      "1 16 120 560 1820 4368 8008 11440 12870 11440 8008 4368 1820 560 120 16 1 \n",
      "1 17 136 680 2380 6188 12376 19448 24310 24310 19448 12376 6188 2380 680 136 17 1 \n",
      "1 18 153 816 3060 8568 18564 31824 43758 48620 43758 31824 18564 8568 3060 816 153 18 1 \n",
      "1 19 171 969 3876 11628 27132 50388 75582 92378 92378 75582 50388 27132 11628 3876 969 171 19 1 \n",
      "1 20 190 1140 4845 15504 38760 77520 125970 167960 184756 167960 125970 77520 38760 15504 4845 1140 190 20 1 \n"
     ]
    }
   ],
   "source": [
    "for n in range(1, 21):\n",
    "    for k in range(n+1):\n",
    "        print(binomial(n, k), end=' ')\n",
    "    print()"
   ]
  },
  {
   "cell_type": "markdown",
   "id": "6ba060d4",
   "metadata": {},
   "source": [
    "**c)**\n",
    "The probability that an unbiased coin, tossed n times, will come up heads k times is\n",
    "$\\binom{n}{k}$/$2n$. Write a program to calculate (a) the total probability that a coin tossed 100 times\n",
    "comes up heads exactly 60 times, and (b) the probability that it comes up heads 60 or\n",
    "more times."
   ]
  },
  {
   "cell_type": "code",
   "execution_count": 35,
   "id": "48b3bded",
   "metadata": {},
   "outputs": [
    {
     "name": "stdout",
     "output_type": "stream",
     "text": [
      "Probability comes up heads exactly 60 times: 0.010843866711637987\n",
      "Probability comes up head at least 60 times: 0.028443966820490392\n"
     ]
    }
   ],
   "source": [
    "#Probability a coin tossed 100 times comes up heads exactly 60 times\n",
    "p_exact = binomial(100, 60)/(2**100)\n",
    "print(f'Probability comes up heads exactly 60 times: {p_exact}')\n",
    "p_more = 0\n",
    "for k in range(60, 101):\n",
    "    p_more += binomial(100, k)/(2**100)\n",
    "print(f'Probability comes up head at least 60 times: {p_more}')"
   ]
  },
  {
   "cell_type": "markdown",
   "id": "7be1b63a",
   "metadata": {},
   "source": [
    "## Exercise 2.12: Prime Numbers\n",
    "The program in Example 2.8 is not a very efficient way of calculating prime numbers: it checks\n",
    "each number to see if it is divisible by any number less than it. We can develop a much faster\n",
    "program for prime numbers by making use of the following observations:  \n",
    "  \n",
    "a) A number n is prime if it has no prime factors less than n. Hence we only need to check\n",
    "if it is divisible by other primes.  \n",
    "  \n",
    "b) If a number n is non-prime, having a factor r, then n = rs, where s is also a factor. If\n",
    "r ≥ √n then n = rs ≥ √ns, which implies that s ≤ √n. In other words, any non-\n",
    "prime must have factors, and hence also prime factors, less than or equal to √n. Thus\n",
    "to determine if a number is prime we have to check its prime factors only up to and\n",
    "including √n—if there are none then the number is prime.  \n",
    "  \n",
    "c) If we find even a single prime factor less than √n then we know that the number is non-\n",
    "prime, and hence there is no need to check any further—we can abandon this number\n",
    "and move on to something else.  \n",
    "  \n",
    "Write a Python program that finds all the primes up to ten thousand. Create a list to store\n",
    "the primes, which starts out with just the one prime number 2 in it. Then for each number n\n",
    "from 3 to 10 000 check whether the number is divisible by any of the primes in the list up to\n",
    "and including $\\sqrt{n}$. As soon as you find a single prime factor you can stop checking the rest of\n",
    "them—you know $n$ is not a prime. If you find no prime factors $\\sqrt{n}$ or less then $n$ is prime and\n",
    "you should add it to the list. You can print out the list all in one go at the end of the program,\n",
    "or you can print out the individual numbers as you find them."
   ]
  },
  {
   "cell_type": "code",
   "execution_count": 30,
   "id": "00ea550f",
   "metadata": {},
   "outputs": [
    {
     "name": "stdout",
     "output_type": "stream",
     "text": [
      "[2, 3, 5, 7, 11, 13, 17, 19, 23, 29, 31, 37, 41, 43, 47, 53, 59, 61, 67, 71, 73, 79, 83, 89, 97, 101, 103, 107, 109, 113, 127, 131, 137, 139, 149, 151, 157, 163, 167, 173, 179, 181, 191, 193, 197, 199, 211, 223, 227, 229, 233, 239, 241, 251, 257, 263, 269, 271, 277, 281, 283, 293, 307, 311, 313, 317, 331, 337, 347, 349, 353, 359, 367, 373, 379, 383, 389, 397, 401, 409, 419, 421, 431, 433, 439, 443, 449, 457, 461, 463, 467, 479, 487, 491, 499, 503, 509, 521, 523, 541, 547, 557, 563, 569, 571, 577, 587, 593, 599, 601, 607, 613, 617, 619, 631, 641, 643, 647, 653, 659, 661, 673, 677, 683, 691, 701, 709, 719, 727, 733, 739, 743, 751, 757, 761, 769, 773, 787, 797, 809, 811, 821, 823, 827, 829, 839, 853, 857, 859, 863, 877, 881, 883, 887, 907, 911, 919, 929, 937, 941, 947, 953, 967, 971, 977, 983, 991, 997, 1009, 1013, 1019, 1021, 1031, 1033, 1039, 1049, 1051, 1061, 1063, 1069, 1087, 1091, 1093, 1097, 1103, 1109, 1117, 1123, 1129, 1151, 1153, 1163, 1171, 1181, 1187, 1193, 1201, 1213, 1217, 1223, 1229, 1231, 1237, 1249, 1259, 1277, 1279, 1283, 1289, 1291, 1297, 1301, 1303, 1307, 1319, 1321, 1327, 1361, 1367, 1373, 1381, 1399, 1409, 1423, 1427, 1429, 1433, 1439, 1447, 1451, 1453, 1459, 1471, 1481, 1483, 1487, 1489, 1493, 1499, 1511, 1523, 1531, 1543, 1549, 1553, 1559, 1567, 1571, 1579, 1583, 1597, 1601, 1607, 1609, 1613, 1619, 1621, 1627, 1637, 1657, 1663, 1667, 1669, 1693, 1697, 1699, 1709, 1721, 1723, 1733, 1741, 1747, 1753, 1759, 1777, 1783, 1787, 1789, 1801, 1811, 1823, 1831, 1847, 1861, 1867, 1871, 1873, 1877, 1879, 1889, 1901, 1907, 1913, 1931, 1933, 1949, 1951, 1973, 1979, 1987, 1993, 1997, 1999, 2003, 2011, 2017, 2027, 2029, 2039, 2053, 2063, 2069, 2081, 2083, 2087, 2089, 2099, 2111, 2113, 2129, 2131, 2137, 2141, 2143, 2153, 2161, 2179, 2203, 2207, 2213, 2221, 2237, 2239, 2243, 2251, 2267, 2269, 2273, 2281, 2287, 2293, 2297, 2309, 2311, 2333, 2339, 2341, 2347, 2351, 2357, 2371, 2377, 2381, 2383, 2389, 2393, 2399, 2411, 2417, 2423, 2437, 2441, 2447, 2459, 2467, 2473, 2477, 2503, 2521, 2531, 2539, 2543, 2549, 2551, 2557, 2579, 2591, 2593, 2609, 2617, 2621, 2633, 2647, 2657, 2659, 2663, 2671, 2677, 2683, 2687, 2689, 2693, 2699, 2707, 2711, 2713, 2719, 2729, 2731, 2741, 2749, 2753, 2767, 2777, 2789, 2791, 2797, 2801, 2803, 2819, 2833, 2837, 2843, 2851, 2857, 2861, 2879, 2887, 2897, 2903, 2909, 2917, 2927, 2939, 2953, 2957, 2963, 2969, 2971, 2999, 3001, 3011, 3019, 3023, 3037, 3041, 3049, 3061, 3067, 3079, 3083, 3089, 3109, 3119, 3121, 3137, 3163, 3167, 3169, 3181, 3187, 3191, 3203, 3209, 3217, 3221, 3229, 3251, 3253, 3257, 3259, 3271, 3299, 3301, 3307, 3313, 3319, 3323, 3329, 3331, 3343, 3347, 3359, 3361, 3371, 3373, 3389, 3391, 3407, 3413, 3433, 3449, 3457, 3461, 3463, 3467, 3469, 3491, 3499, 3511, 3517, 3527, 3529, 3533, 3539, 3541, 3547, 3557, 3559, 3571, 3581, 3583, 3593, 3607, 3613, 3617, 3623, 3631, 3637, 3643, 3659, 3671, 3673, 3677, 3691, 3697, 3701, 3709, 3719, 3727, 3733, 3739, 3761, 3767, 3769, 3779, 3793, 3797, 3803, 3821, 3823, 3833, 3847, 3851, 3853, 3863, 3877, 3881, 3889, 3907, 3911, 3917, 3919, 3923, 3929, 3931, 3943, 3947, 3967, 3989, 4001, 4003, 4007, 4013, 4019, 4021, 4027, 4049, 4051, 4057, 4073, 4079, 4091, 4093, 4099, 4111, 4127, 4129, 4133, 4139, 4153, 4157, 4159, 4177, 4201, 4211, 4217, 4219, 4229, 4231, 4241, 4243, 4253, 4259, 4261, 4271, 4273, 4283, 4289, 4297, 4327, 4337, 4339, 4349, 4357, 4363, 4373, 4391, 4397, 4409, 4421, 4423, 4441, 4447, 4451, 4457, 4463, 4481, 4483, 4493, 4507, 4513, 4517, 4519, 4523, 4547, 4549, 4561, 4567, 4583, 4591, 4597, 4603, 4621, 4637, 4639, 4643, 4649, 4651, 4657, 4663, 4673, 4679, 4691, 4703, 4721, 4723, 4729, 4733, 4751, 4759, 4783, 4787, 4789, 4793, 4799, 4801, 4813, 4817, 4831, 4861, 4871, 4877, 4889, 4903, 4909, 4919, 4931, 4933, 4937, 4943, 4951, 4957, 4967, 4969, 4973, 4987, 4993, 4999, 5003, 5009, 5011, 5021, 5023, 5039, 5051, 5059, 5077, 5081, 5087, 5099, 5101, 5107, 5113, 5119, 5147, 5153, 5167, 5171, 5179, 5189, 5197, 5209, 5227, 5231, 5233, 5237, 5261, 5273, 5279, 5281, 5297, 5303, 5309, 5323, 5333, 5347, 5351, 5381, 5387, 5393, 5399, 5407, 5413, 5417, 5419, 5431, 5437, 5441, 5443, 5449, 5471, 5477, 5479, 5483, 5501, 5503, 5507, 5519, 5521, 5527, 5531, 5557, 5563, 5569, 5573, 5581, 5591, 5623, 5639, 5641, 5647, 5651, 5653, 5657, 5659, 5669, 5683, 5689, 5693, 5701, 5711, 5717, 5737, 5741, 5743, 5749, 5779, 5783, 5791, 5801, 5807, 5813, 5821, 5827, 5839, 5843, 5849, 5851, 5857, 5861, 5867, 5869, 5879, 5881, 5897, 5903, 5923, 5927, 5939, 5953, 5981, 5987, 6007, 6011, 6029, 6037, 6043, 6047, 6053, 6067, 6073, 6079, 6089, 6091, 6101, 6113, 6121, 6131, 6133, 6143, 6151, 6163, 6173, 6197, 6199, 6203, 6211, 6217, 6221, 6229, 6247, 6257, 6263, 6269, 6271, 6277, 6287, 6299, 6301, 6311, 6317, 6323, 6329, 6337, 6343, 6353, 6359, 6361, 6367, 6373, 6379, 6389, 6397, 6421, 6427, 6449, 6451, 6469, 6473, 6481, 6491, 6521, 6529, 6547, 6551, 6553, 6563, 6569, 6571, 6577, 6581, 6599, 6607, 6619, 6637, 6653, 6659, 6661, 6673, 6679, 6689, 6691, 6701, 6703, 6709, 6719, 6733, 6737, 6761, 6763, 6779, 6781, 6791, 6793, 6803, 6823, 6827, 6829, 6833, 6841, 6857, 6863, 6869, 6871, 6883, 6899, 6907, 6911, 6917, 6947, 6949, 6959, 6961, 6967, 6971, 6977, 6983, 6991, 6997, 7001, 7013, 7019, 7027, 7039, 7043, 7057, 7069, 7079, 7103, 7109, 7121, 7127, 7129, 7151, 7159, 7177, 7187, 7193, 7207, 7211, 7213, 7219, 7229, 7237, 7243, 7247, 7253, 7283, 7297, 7307, 7309, 7321, 7331, 7333, 7349, 7351, 7369, 7393, 7411, 7417, 7433, 7451, 7457, 7459, 7477, 7481, 7487, 7489, 7499, 7507, 7517, 7523, 7529, 7537, 7541, 7547, 7549, 7559, 7561, 7573, 7577, 7583, 7589, 7591, 7603, 7607, 7621, 7639, 7643, 7649, 7669, 7673, 7681, 7687, 7691, 7699, 7703, 7717, 7723, 7727, 7741, 7753, 7757, 7759, 7789, 7793, 7817, 7823, 7829, 7841, 7853, 7867, 7873, 7877, 7879, 7883, 7901, 7907, 7919, 7927, 7933, 7937, 7949, 7951, 7963, 7993, 8009, 8011, 8017, 8039, 8053, 8059, 8069, 8081, 8087, 8089, 8093, 8101, 8111, 8117, 8123, 8147, 8161, 8167, 8171, 8179, 8191, 8209, 8219, 8221, 8231, 8233, 8237, 8243, 8263, 8269, 8273, 8287, 8291, 8293, 8297, 8311, 8317, 8329, 8353, 8363, 8369, 8377, 8387, 8389, 8419, 8423, 8429, 8431, 8443, 8447, 8461, 8467, 8501, 8513, 8521, 8527, 8537, 8539, 8543, 8563, 8573, 8581, 8597, 8599, 8609, 8623, 8627, 8629, 8641, 8647, 8663, 8669, 8677, 8681, 8689, 8693, 8699, 8707, 8713, 8719, 8731, 8737, 8741, 8747, 8753, 8761, 8779, 8783, 8803, 8807, 8819, 8821, 8831, 8837, 8839, 8849, 8861, 8863, 8867, 8887, 8893, 8923, 8929, 8933, 8941, 8951, 8963, 8969, 8971, 8999, 9001, 9007, 9011, 9013, 9029, 9041, 9043, 9049, 9059, 9067, 9091, 9103, 9109, 9127, 9133, 9137, 9151, 9157, 9161, 9173, 9181, 9187, 9199, 9203, 9209, 9221, 9227, 9239, 9241, 9257, 9277, 9281, 9283, 9293, 9311, 9319, 9323, 9337, 9341, 9343, 9349, 9371, 9377, 9391, 9397, 9403, 9413, 9419, 9421, 9431, 9433, 9437, 9439, 9461, 9463, 9467, 9473, 9479, 9491, 9497, 9511, 9521, 9533, 9539, 9547, 9551, 9587, 9601, 9613, 9619, 9623, 9629, 9631, 9643, 9649, 9661, 9677, 9679, 9689, 9697, 9719, 9721, 9733, 9739, 9743, 9749, 9767, 9769, 9781, 9787, 9791, 9803, 9811, 9817, 9829, 9833, 9839, 9851, 9857, 9859, 9871, 9883, 9887, 9901, 9907, 9923, 9929, 9931, 9941, 9949, 9967, 9973]\n"
     ]
    }
   ],
   "source": [
    "#Initial prime list\n",
    "primes = [2]\n",
    "for n in range(3, 10001):\n",
    "    comp = False\n",
    "    while not comp:\n",
    "        for prime in primes:\n",
    "            if prime > np.sqrt(n):\n",
    "                break\n",
    "            elif n%prime == 0:\n",
    "                comp = True\n",
    "                break\n",
    "        break\n",
    "    if not comp: \n",
    "        primes.append(n)\n",
    "print(primes)"
   ]
  },
  {
   "cell_type": "markdown",
   "id": "02b72e31",
   "metadata": {},
   "source": [
    "## Exercise 2.13 Recursion\n",
    "A useful feature of user-defined functions is *recursion*, the ability of a function to call itself. For\n",
    "example, consider the following definition of the factorial $n!$ of a positive integer $n$:\n",
    "$$\n",
    "n! = \\begin{cases}\n",
    "    1 & \\text{if }n=1, \\\\ \n",
    "    n \\times (n-1)!  & \\text{if }n>1\n",
    "\\end{cases}\n",
    "$$  \n",
    "This constitutes a complete definition of the factorial which allows us to calculate the value of\n",
    "$n!$ for any positive integer. We can employ this definition directly to create a Python function\n",
    "for factorials, like this:  \n",
    "```python\n",
    "def factorial(n):\n",
    "    if n==1:\n",
    "        return 1\n",
    "    else:\n",
    "        return n*factorial(n-1)\n",
    "```\n",
    "Note how, if $n$ is not equal to 1, the function calls itself to calculate the factorial of $n-1$. This is recursion. If we now say \"```print(factorial(5))```\" the computer will correctly print the answer 120."
   ]
  },
  {
   "cell_type": "markdown",
   "id": "461eb4cf",
   "metadata": {},
   "source": [
    "**a)**\n",
    "We encountered the Catalan numbers Cn previously in Exercise 2.7 on page 46. With just\n",
    "a little rearrangement, the definition given there can be rewritten in the form\n",
    "\n",
    "$$\n",
    "C_n = \\begin{cases}\n",
    "    1 & \\text{if }n=0, \\\\ \n",
    "    \\frac{4n-2}{n+1}C_{n-1} & \\text{if }n>0.\n",
    "\\end{cases}\n",
    "$$  \n",
    "Write a Python function, using recursion, that calculates $C_n$. Use your function to calcu-\n",
    "late and print $C_{100}$."
   ]
  },
  {
   "cell_type": "code",
   "execution_count": 31,
   "id": "0c793c89",
   "metadata": {},
   "outputs": [
    {
     "name": "stdout",
     "output_type": "stream",
     "text": [
      "896519947090131678185430741499021921911623568450622849024\n"
     ]
    }
   ],
   "source": [
    "#Catalan numbers: recursive function\n",
    "def catalan(n):\n",
    "    if n == 0:\n",
    "        return 1\n",
    "    return int((4*n-2)/(n+1)*catalan(n-1))\n",
    "print(catalan(100))"
   ]
  },
  {
   "cell_type": "markdown",
   "id": "d526f41a",
   "metadata": {},
   "source": [
    "**b)**\n",
    "Euclid showed that the greatest common divisor $g(m, n)$ of two nonnegative integers $m$\n",
    "and $n$ satisfies\n",
    "$$\n",
    "g(m,n) = \\begin{cases}\n",
    "    m & \\text{if }n=0, \\\\ \n",
    "    g(n, m\\text{ mod }n) & \\text{if }n>0.\n",
    "\\end{cases}\n",
    "$$  \n",
    "Write a Python function $g(m,n)$ that employs recursion to calculate the greatest common\n",
    "divisor of $m$ and $n$ using this formula. Use your function to calculate and print the greatest common divisor of 108 and 192."
   ]
  },
  {
   "cell_type": "code",
   "execution_count": 32,
   "id": "59373553",
   "metadata": {},
   "outputs": [
    {
     "name": "stdout",
     "output_type": "stream",
     "text": [
      "12\n"
     ]
    }
   ],
   "source": [
    "#Greatest common divisor: recursive function\n",
    "def g(m, n):\n",
    "    if n == 0:\n",
    "        return m\n",
    "    return g(n, m%n)\n",
    "print(g(108, 192))"
   ]
  },
  {
   "cell_type": "markdown",
   "id": "33b84ffe",
   "metadata": {},
   "source": [
    "Comparing the calculation of the Catalan numbers in part (a) above with that of Exercise 2.7,\n",
    "we see that it’s possible to do the calculation two ways, either directly or using recursion. In\n",
    "most cases, if a quantity can be calculated *without* recursion, then it will be faster to do so, and\n",
    "we normally recommend taking this route if possible. There are some calculations, however,\n",
    "that are essentially impossible (or at least much more difficult) without recursion. We will see\n",
    "some examples later in this book."
   ]
  }
 ],
 "metadata": {
  "kernelspec": {
   "display_name": "Python 3 (ipykernel)",
   "language": "python",
   "name": "python3"
  },
  "language_info": {
   "codemirror_mode": {
    "name": "ipython",
    "version": 3
   },
   "file_extension": ".py",
   "mimetype": "text/x-python",
   "name": "python",
   "nbconvert_exporter": "python",
   "pygments_lexer": "ipython3",
   "version": "3.8.8"
  }
 },
 "nbformat": 4,
 "nbformat_minor": 5
}
