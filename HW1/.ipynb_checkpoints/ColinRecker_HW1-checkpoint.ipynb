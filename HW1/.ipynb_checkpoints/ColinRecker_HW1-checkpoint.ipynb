{
 "cells": [
  {
   "cell_type": "markdown",
   "id": "ac06a953",
   "metadata": {},
   "source": [
    "Exercise 2.2"
   ]
  },
  {
   "cell_type": "code",
   "execution_count": null,
   "id": "28e18f60",
   "metadata": {},
   "outputs": [],
   "source": [
    "import math"
   ]
  },
  {
   "cell_type": "code",
   "execution_count": null,
   "id": "c32cb75c",
   "metadata": {},
   "outputs": [],
   "source": [
    "#Defining constants\n",
    "G = 6.67*10**-11 #m^3 kg^-1 s^-2\n",
    "M = 5.97*10**24 #kg\n",
    "R = 6371 #km"
   ]
  },
  {
   "cell_type": "code",
   "execution_count": null,
   "id": "b6c02a9e",
   "metadata": {},
   "outputs": [],
   "source": [
    "def h(T):\n",
    "    return (G*M*T**2/(4*math.pi**2))**1/3 - R"
   ]
  },
  {
   "cell_type": "code",
   "execution_count": null,
   "id": "0906d5fe",
   "metadata": {},
   "outputs": [],
   "source": [
    "T = float(input(\"Enter a value for T: \"))\n",
    "print(h(T), 'meters')"
   ]
  }
 ],
 "metadata": {
  "kernelspec": {
   "display_name": "Python 3 (ipykernel)",
   "language": "python",
   "name": "python3"
  },
  "language_info": {
   "codemirror_mode": {
    "name": "ipython",
    "version": 3
   },
   "file_extension": ".py",
   "mimetype": "text/x-python",
   "name": "python",
   "nbconvert_exporter": "python",
   "pygments_lexer": "ipython3",
   "version": "3.8.8"
  }
 },
 "nbformat": 4,
 "nbformat_minor": 5
}
