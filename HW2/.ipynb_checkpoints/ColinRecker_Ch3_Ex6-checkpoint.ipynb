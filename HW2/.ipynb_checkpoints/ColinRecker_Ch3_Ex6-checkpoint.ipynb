{
 "cells": [
  {
   "cell_type": "markdown",
   "id": "d72c32e6",
   "metadata": {},
   "source": [
    "# Exercise 3.6: Deterministic chaos and the Feigenbaum Plot"
   ]
  },
  {
   "cell_type": "code",
   "execution_count": 4,
   "id": "c8a58cc4",
   "metadata": {},
   "outputs": [
    {
     "data": {
      "image/png": "[encoded data removed]",
      "text/plain": [
       "<Figure size 288x288 with 1 Axes>"
      ]
     },
     "metadata": {
      "needs_background": "light"
     },
     "output_type": "display_data"
    }
   ],
   "source": [
    "import numpy as np\n",
    "import matplotlib.pyplot as plt\n",
    "r = 3\n",
    "x = 0.5\n",
    "\n",
    "def logisticMap(r, x):\n",
    "    return r*x*(1-x)\n",
    "\n",
    "r_list = []\n",
    "x_list = []\n",
    "\n",
    "for r in np.linspace(1, 4, 500):\n",
    "    for i in range(10):\n",
    "        x = logisticMap(r, x)\n",
    "        r_list.append(r)\n",
    "        x_list.append(x)\n",
    "\n",
    "r_points = np.array(r_list)\n",
    "x_points = np.array(x_list)\n",
    "plt.figure(figsize=(4,4))\n",
    "plt.xlabel('r')\n",
    "plt.ylabel('x')\n",
    "plt.scatter(r_points, x_points)\n",
    "plt.show()"
   ]
  },
  {
   "cell_type": "markdown",
   "id": "6df4ea92",
   "metadata": {},
   "source": [
    "**a) ANSWER:** For a given value of $r$, a fixed point would be where the $x$ vs $r$ graph looks like a function: where it passes the vertical line test, somewhere on the range of $1\\le x \\le3.5$. This will guaruntee that a value of $r$ always converges to a single value of $x$. A limit cycle on the plot is where the plot cycles between different values of $x$, somewhere on the range of $3\\le x\\le 3.5$. A region of chaos whould be where values of r correspond to a wide range of non-uniform $x$ values.\n",
    "**b) ANSWER:** The edge of chaos for this graph appears to be at $r=3.5$, where it switches from a clear limit cycle to a chaotic dispersion of $x$ values for each $r\\ge3.5$."
   ]
  }
 ],
 "metadata": {
  "kernelspec": {
   "display_name": "Python 3 (ipykernel)",
   "language": "python",
   "name": "python3"
  },
  "language_info": {
   "codemirror_mode": {
    "name": "ipython",
    "version": 3
   },
   "file_extension": ".py",
   "mimetype": "text/x-python",
   "name": "python",
   "nbconvert_exporter": "python",
   "pygments_lexer": "ipython3",
   "version": "3.8.8"
  }
 },
 "nbformat": 4,
 "nbformat_minor": 5
}
