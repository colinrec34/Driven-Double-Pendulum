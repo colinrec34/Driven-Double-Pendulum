{
 "cells": [
  {
   "cell_type": "markdown",
   "id": "3996b9e5",
   "metadata": {},
   "source": [
    "# Lecture 9 activities - 3D Graphics and Animations with vpython\n",
    "Today we will explore some examples of 3D Graphics and Animation capabilities of Python. We will use the vpython package which is related to the visual package the textbook refers too in Chapter 3. The vpython package works with Jupyter notebooks. There are some slight differences such as the canvas() function in vpython replaces the display() function in visual.\n",
    "\n",
    "**Installing vpython:**\n",
    "1.\tOpen “Anaconda Prompt” or “Anaconda Power Prompt” (instead of opening a Jupyter Notebook).\n",
    "2.\tCheck the packages installed to see if visual or vpython is listed: conda list\n",
    "3.\tYou can install using the command: conda install -c vpython vpython\n",
    "4.\tCheck the list of packages again. Is it listed?\n",
    "5.\tYou can update vpython (or any package later) using command: conda update vpython\n",
    "\n",
    "In a Jupyter Notebook, do the following exercises.\n",
    "\n",
    "**Differences between visual package and vpython package. [Following the textbook (p.116)]**\n",
    "\n",
    "Compare the following code to learn some important differences between visual and vpython syntax. \n",
    "\n",
    "*The textbook presents the following code using the visual package:*\n",
    "\n",
    "from visual import box,cone,cylinder,pyramid,arrow,sphere,vector,canvas,color  \n",
    "\n",
    "box(pos=[x,y,z], axis=[a,b,c], length=L, height=H, width=W, up=[q,r,s])  \n",
    "cone(pos=[x,y,z], axis=[a,b,c], radius=R)  \n",
    "cylinder(pos=[x,y,z], axis=[a,b,c], radius=R)  \n",
    "pyramid(pos=[x,y,z], size=[z,b,c])  \n",
    "arrow(pos=[x,y,z], axis[a,b,c], headwidth=H, headlength=L, shaftwidth=W)  \n",
    "display()\n",
    "\n",
    "*Compare this to equivalent code using the vpython package:*\n",
    "\n",
    "from visual import box,cone,cylinder,pyramid,arrow,sphere,vector,canvas,color  \n",
    "\n",
    "box(pos=vector(x,y,z), axis=vector(a,b,c), length=L, height=H, width=W, up=vector(q,r,s))  \n",
    "cone(pos=vector(x,y,z), axis=vector(a,b,c), radius=R)  \n",
    "cylinder(pos=vector(x,y,z), axis=vector(a,b,c), radius=R)  \n",
    "pyramid(pos=vector(x,y,z), size=vector(z,b,c))  \n",
    "arrow(pos=vector(x,y,z), axis=vector(a,b,c), headwidth=H, headlength=L, shaftwidth=W)  \n",
    "canvas()  \n",
    "\n",
    "Notice two important differences.\n",
    "1. The arrays in visual (like pos=[x,y,z]) are replaced by special vector objects (pos=vector(x,y,z)) in vpython.\n",
    "2. The display() function in visual is replaced by canvas() in vpython.\n",
    "\n",
    "Otherwise, the options to format the objects (pos, axis, color, size, radius, length,...) are the same.\n",
    "\n",
    "You can also format the display window with various options. The textbook suggests something like\n",
    "display(x=100,y=100,width=600,height=600, \\\n",
    "center=[5,0,0],forward=[0,0,-1],background=color.blue,foreground=color.yellow)\n",
    "\n",
    "which in vpython would be\n",
    "canvas(x=100,y=100,width=600,height=600, \\ center=vector(5,0,0),forward=vector(0,0,-1),background=color.blue,foreground=color.yellow)\n",
    "\n",
    "## 1. Draw several of these objects.\n",
    "Play with the different options. Make up some settings just get a feel for what the settings do and what the graphics look like."
   ]
  },
  {
   "cell_type": "code",
   "execution_count": 1,
   "id": "6acf8c68",
   "metadata": {
    "scrolled": true
   },
   "outputs": [
    {
     "data": {
      "text/html": [
       "<div id=\"glowscript\" class=\"glowscript\"></div>"
      ],
      "text/plain": [
       "<IPython.core.display.HTML object>"
      ]
     },
     "metadata": {},
     "output_type": "display_data"
    },
    {
     "data": {
      "application/javascript": [
       "if (typeof Jupyter !== \"undefined\") { window.__context = { glowscript_container: $(\"#glowscript\").removeAttr(\"id\")};}else{ element.textContent = ' ';}"
      ],
      "text/plain": [
       "<IPython.core.display.Javascript object>"
      ]
     },
     "metadata": {},
     "output_type": "display_data"
    },
    {
     "data": {
      "application/javascript": [
       "if (typeof Jupyter !== \"undefined\") {require.undef(\"nbextensions/vpython_libraries/glow.min\");}else{element.textContent = ' ';}"
      ],
      "text/plain": [
       "<IPython.core.display.Javascript object>"
      ]
     },
     "metadata": {},
     "output_type": "display_data"
    },
    {
     "data": {
      "application/javascript": [
       "if (typeof Jupyter !== \"undefined\") {require.undef(\"nbextensions/vpython_libraries/glowcomm\");}else{element.textContent = ' ';}"
      ],
      "text/plain": [
       "<IPython.core.display.Javascript object>"
      ]
     },
     "metadata": {},
     "output_type": "display_data"
    },
    {
     "data": {
      "application/javascript": [
       "if (typeof Jupyter !== \"undefined\") {require.undef(\"nbextensions/vpython_libraries/jquery-ui.custom.min\");}else{element.textContent = ' ';}"
      ],
      "text/plain": [
       "<IPython.core.display.Javascript object>"
      ]
     },
     "metadata": {},
     "output_type": "display_data"
    },
    {
     "data": {
      "application/javascript": [
       "if (typeof Jupyter !== \"undefined\") {require([\"nbextensions/vpython_libraries/glow.min\"], function(){console.log(\"GLOW LOADED\");});}else{element.textContent = ' ';}"
      ],
      "text/plain": [
       "<IPython.core.display.Javascript object>"
      ]
     },
     "metadata": {},
     "output_type": "display_data"
    },
    {
     "data": {
      "application/javascript": [
       "if (typeof Jupyter !== \"undefined\") {require([\"nbextensions/vpython_libraries/glowcomm\"], function(){console.log(\"GLOWCOMM LOADED\");});}else{element.textContent = ' ';}"
      ],
      "text/plain": [
       "<IPython.core.display.Javascript object>"
      ]
     },
     "metadata": {},
     "output_type": "display_data"
    },
    {
     "data": {
      "application/javascript": [
       "if (typeof Jupyter !== \"undefined\") {require([\"nbextensions/vpython_libraries/jquery-ui.custom.min\"], function(){console.log(\"JQUERY LOADED\");});}else{element.textContent = ' ';}"
      ],
      "text/plain": [
       "<IPython.core.display.Javascript object>"
      ]
     },
     "metadata": {},
     "output_type": "display_data"
    },
    {
     "data": {
      "text/html": [
       "<div id=\"glowscript\" class=\"glowscript\"></div>"
      ],
      "text/plain": [
       "<IPython.core.display.HTML object>"
      ]
     },
     "metadata": {},
     "output_type": "display_data"
    },
    {
     "data": {
      "application/javascript": [
       "if (typeof Jupyter !== \"undefined\") { window.__context = { glowscript_container: $(\"#glowscript\").removeAttr(\"id\")};}else{ element.textContent = ' ';}"
      ],
      "text/plain": [
       "<IPython.core.display.Javascript object>"
      ]
     },
     "metadata": {},
     "output_type": "display_data"
    }
   ],
   "source": [
    "from vpython import sphere,vector,canvas,color,box,cone,cylinder,pyramid,arrow\n",
    "\n",
    "box(color=vector(255,255,255),pos=vector(5,0,0),axis=vector(3,0,0))\n",
    "cone()\n",
    "cylinder(pos=vector(-1,2,3),color=vector(1,3,1))\n",
    "pyramid(pos=vector(3,-3,0),color=color.red,axis=vector(4,4,3))\n",
    "arrow(pos=vector(-4,0,0),color=color.cyan,headwidth=1.5,headlength=3,shaftwidth=0.5)\n",
    "sphere(radius=0.5,pos=vector(1,2,0),color=color.blue)\n",
    "canvas() \n",
    "#canvas(x=100,y=100,width=600,height=500,background=color.purple,foreground=color.yellow)"
   ]
  },
  {
   "cell_type": "markdown",
   "id": "27e8d5dc",
   "metadata": {},
   "source": [
    "# 2. Review the following code (also in lattice.py from the textbook website)\n",
    "Try to make sense of the code and what it will do. Then run it."
   ]
  },
  {
   "cell_type": "code",
   "execution_count": 2,
   "id": "e6aadf40",
   "metadata": {},
   "outputs": [
    {
     "data": {
      "text/html": [
       "<div id=\"glowscript\" class=\"glowscript\"></div>"
      ],
      "text/plain": [
       "<IPython.core.display.HTML object>"
      ]
     },
     "metadata": {},
     "output_type": "display_data"
    },
    {
     "data": {
      "application/javascript": [
       "if (typeof Jupyter !== \"undefined\") { window.__context = { glowscript_container: $(\"#glowscript\").removeAttr(\"id\")};}else{ element.textContent = ' ';}"
      ],
      "text/plain": [
       "<IPython.core.display.Javascript object>"
      ]
     },
     "metadata": {},
     "output_type": "display_data"
    }
   ],
   "source": [
    "# This code is also in lattice.py from the textbook website. It generates Figure 3.8 in the text.\n",
    "from vpython import sphere,vector,canvas\n",
    "canvas()\n",
    "\n",
    "L=3\n",
    "R=0.3\n",
    "for i in range(-L,L+1):\n",
    "    for j in range(-L,L+1):\n",
    "        for k in range(-L,L+1):\n",
    "            sphere(pos=vector(i,j,k),radius=R)\n",
    "# NOTE: A feature of vpython is that it draws all the graphics in the same cell above. \n",
    "#       Scroll down below the first figure you created."
   ]
  },
  {
   "cell_type": "markdown",
   "id": "08377a3a",
   "metadata": {},
   "source": [
    "You can also create sphere objects. Notice how a sphere is created, and its options set. Yo"
   ]
  },
  {
   "cell_type": "code",
   "execution_count": 3,
   "id": "71c44609",
   "metadata": {},
   "outputs": [
    {
     "data": {
      "text/html": [
       "<div id=\"glowscript\" class=\"glowscript\"></div>"
      ],
      "text/plain": [
       "<IPython.core.display.HTML object>"
      ]
     },
     "metadata": {},
     "output_type": "display_data"
    },
    {
     "data": {
      "application/javascript": [
       "if (typeof Jupyter !== \"undefined\") { window.__context = { glowscript_container: $(\"#glowscript\").removeAttr(\"id\")};}else{ element.textContent = ' ';}"
      ],
      "text/plain": [
       "<IPython.core.display.Javascript object>"
      ]
     },
     "metadata": {},
     "output_type": "display_data"
    }
   ],
   "source": [
    "canvas()\n",
    "s = sphere()\n",
    "s.radius = 0.5\n",
    "s.pos= vector(1,2,3)"
   ]
  },
  {
   "cell_type": "markdown",
   "id": "b8b9f39f",
   "metadata": {},
   "source": [
    "You can even create arrays of objects where each element is of type \"sphere.\" This is no different  \n",
    "than creating an array of int, float or complex objects. "
   ]
  },
  {
   "cell_type": "code",
   "execution_count": 4,
   "id": "d3135711",
   "metadata": {},
   "outputs": [
    {
     "data": {
      "text/html": [
       "<div id=\"glowscript\" class=\"glowscript\"></div>"
      ],
      "text/plain": [
       "<IPython.core.display.HTML object>"
      ]
     },
     "metadata": {},
     "output_type": "display_data"
    },
    {
     "data": {
      "application/javascript": [
       "if (typeof Jupyter !== \"undefined\") { window.__context = { glowscript_container: $(\"#glowscript\").removeAttr(\"id\")};}else{ element.textContent = ' ';}"
      ],
      "text/plain": [
       "<IPython.core.display.Javascript object>"
      ]
     },
     "metadata": {},
     "output_type": "display_data"
    }
   ],
   "source": [
    "from vpython import sphere,color,vector\n",
    "from numpy import empty\n",
    "\n",
    "canvas()\n",
    "\n",
    "s = empty(10,sphere)\n",
    "for n in range(10):\n",
    "    s[n] = sphere(radius=1/(n+1), color=vector(3,2,1))\n",
    "    #(s[n]).color=vector(n,2*n,n)"
   ]
  },
  {
   "cell_type": "code",
   "execution_count": 5,
   "id": "e1e67342",
   "metadata": {
    "scrolled": true
   },
   "outputs": [
    {
     "data": {
      "text/html": [
       "<div id=\"glowscript\" class=\"glowscript\"></div>"
      ],
      "text/plain": [
       "<IPython.core.display.HTML object>"
      ]
     },
     "metadata": {},
     "output_type": "display_data"
    },
    {
     "data": {
      "application/javascript": [
       "if (typeof Jupyter !== \"undefined\") { window.__context = { glowscript_container: $(\"#glowscript\").removeAttr(\"id\")};}else{ element.textContent = ' ';}"
      ],
      "text/plain": [
       "<IPython.core.display.Javascript object>"
      ]
     },
     "metadata": {},
     "output_type": "display_data"
    }
   ],
   "source": [
    "from vpython import sphere,box,vector,canvas,rate,color\n",
    "from numpy import empty,sqrt\n",
    "\n",
    "canvas(x=0,y=0,width=300,height=400)\n",
    "#box(pos=vector(0,0,0),length=1000,color=color.yellow)\n",
    "sphere(radius=400,pos=vector(5000,0,0),color=color.yellow)\n",
    "\n",
    "N = 90  # How many points to plot\n",
    "s = empty(N,sphere)\n",
    "\n",
    "\n",
    "for t in range(N):\n",
    "    rate(100)\n",
    "    s[t] = sphere(radius=100,pos=vector(50.*t,400.*t-4.9*t**2,0),color=color.red)\n"
   ]
  },
  {
   "cell_type": "markdown",
   "id": "1f416e6f",
   "metadata": {},
   "source": [
    "# 3. Answer the following questions using the animation code for the projectile.\n",
    "\n",
    "What happens if you change the rate? Does a larger rate make the animation update more frequently or less frequently?\n",
    "**ANSWER:** Increasing the rate increases the speed that the animation code updates; more frequent updates.\n",
    "\n",
    "Why must the canvas() function be called before the first sphere is drawn? You could test what happens if you switch the order of the canvas() and first sphere() functions.\n",
    "**ANSWER:** The canvas() function is called before the sphere is drawn so a new canvas is generated for the objects to be drawn onto within the cell. Otherwise, the sphere will be drawn on a previously generated canvas, and not drawn on the desired canvas.\n",
    "\n",
    "\n",
    "**Hit the target game**  \n",
    "Turn this into a game where the user inputs initial $x$ and $y$ components (or initial speed and launch angle) and tries to hit the target? Add input functions for initial velocity $(v_{0x}$, $v_{0y})$ or $(v_{0}$, $\\theta _{0} )$. Note that the x and y arguments for the position (pos) in the code above are given by $x = v_{0x}t$ and $y = v_{0y}t - 0.5gt^{2}$ where $v_{0x} = 50 \\ \\text{m/s}$, $v_{0y} = 400 \\ \\text{m/s}$ and $\\text{g} = 9.8 \\ \\text{m/s}^{2}$. HINT: Copy and paste code from above to get started."
   ]
  },
  {
   "cell_type": "code",
   "execution_count": 6,
   "id": "86e3dce9",
   "metadata": {},
   "outputs": [
    {
     "name": "stdout",
     "output_type": "stream",
     "text": [
      "Input initial x-speed: 0\n",
      "Input initial y-speed: 0\n"
     ]
    },
    {
     "data": {
      "text/html": [
       "<div id=\"glowscript\" class=\"glowscript\"></div>"
      ],
      "text/plain": [
       "<IPython.core.display.HTML object>"
      ]
     },
     "metadata": {},
     "output_type": "display_data"
    },
    {
     "data": {
      "application/javascript": [
       "if (typeof Jupyter !== \"undefined\") { window.__context = { glowscript_container: $(\"#glowscript\").removeAttr(\"id\")};}else{ element.textContent = ' ';}"
      ],
      "text/plain": [
       "<IPython.core.display.Javascript object>"
      ]
     },
     "metadata": {},
     "output_type": "display_data"
    },
    {
     "name": "stdout",
     "output_type": "stream",
     "text": [
      "You missed the target!\n"
     ]
    }
   ],
   "source": [
    "from vpython import sphere,box,vector,canvas,rate,color\n",
    "from numpy import empty,sqrt\n",
    "\n",
    "initx = float(input(\"Input initial x-speed: \"))\n",
    "inity = float(input(\"Input initial y-speed: \"))\n",
    "canvas(x=0,y=0,width=300,height=400)\n",
    "#box(pos=vector(0,0,0),length=1000,color=color.yellow)\n",
    "sphere(radius=400,pos=vector(5000,0,0),color=color.yellow)\n",
    "\n",
    "N = 90  # How many points to plot\n",
    "s = empty(N,sphere)\n",
    "hit = False\n",
    "for t in range(N):\n",
    "    rate(100)\n",
    "    s[t] = sphere(radius=100,pos=vector(initx*t,inity*t-4.9*t**2,0),color=color.red)\n",
    "    sep_vect = s[t].pos-vector(5000, 0, 0)\n",
    "    relative_dist = sqrt(sep_vect.mag2)\n",
    "    #print(relative_dist)\n",
    "    if relative_dist <= 400:\n",
    "        hit = True\n",
    "        print(\"You hit the target!\")\n",
    "        break\n",
    "if not hit:\n",
    "    print(\"You missed the target!\")\n"
   ]
  },
  {
   "cell_type": "markdown",
   "id": "9d0f5c01",
   "metadata": {},
   "source": [
    "Describe how you you might determine when and if the target hit successfully? Consider how you would calculate the distance between two points. Remember there are break and continue statements that might be helpful. Try implementing it."
   ]
  },
  {
   "cell_type": "markdown",
   "id": "0bde41d5",
   "metadata": {},
   "source": [
    "# 4. Additional animation examples\n",
    "\n",
    "A bunch of animation examples, along with the code, are available at https://www.glowscript.org/#/user/GlowScriptDemos/folder/Examples/\n",
    "\n",
    "To run these you have to comment out the first line \"Web VPython 3.2\" and add the line \"from vpython import *\".\n",
    "\n",
    "You can try some for fun if you're interested."
   ]
  },
  {
   "cell_type": "markdown",
   "id": "e92250cb",
   "metadata": {},
   "source": [
    "# 5. Just for fun. This is based on Textbook Exercise 3.5\n",
    "I don't have the scales correct and my Sun is at the edge of the Solar System."
   ]
  },
  {
   "cell_type": "code",
   "execution_count": 8,
   "id": "55b8a6f6",
   "metadata": {},
   "outputs": [
    {
     "data": {
      "text/html": [
       "<div id=\"glowscript\" class=\"glowscript\"></div>"
      ],
      "text/plain": [
       "<IPython.core.display.HTML object>"
      ]
     },
     "metadata": {},
     "output_type": "display_data"
    },
    {
     "data": {
      "application/javascript": [
       "if (typeof Jupyter !== \"undefined\") { window.__context = { glowscript_container: $(\"#glowscript\").removeAttr(\"id\")};}else{ element.textContent = ' ';}"
      ],
      "text/plain": [
       "<IPython.core.display.Javascript object>"
      ]
     },
     "metadata": {},
     "output_type": "display_data"
    }
   ],
   "source": [
    "from numpy import array,arange,empty,zeros\n",
    "from math import cos,sin,pi\n",
    "from vpython import sphere,rate,color,vector,canvas\n",
    "\n",
    "\n",
    "cPlanet = 1000. # Scale factor for Radii of planets\n",
    "cSun = 100. #0. # Scale factor for Radius of the Sun\n",
    "# Planet size and orbital information (Saturn inward, last one is the Sun)\n",
    "r = [ 1433.4, 778.5, 227.9, 149.6, 108.2, 57.9, 0.001] # Orbital radius (millions of km)\n",
    "R = [ 57316, 69173, 3386, 6371, 6052, 2440, 695500/cSun  ] # Radius of planet/Sun (km)\n",
    "T = [ 10759.2, 4331.6, 687.0, 365.3, 224.7, 88.0, 0.001 ] # Orbital period (days)\n",
    "\n",
    "# Need to scale these so planets show up. Planet radii are tiny\n",
    "# compared to the distance between the planets and sun.\n",
    "# Probably need to implement Kepler's 2nd Law to get things working...\n",
    "for ni in range(0,7):\n",
    "    r[ni] /= 100 #(R[ni]*1000)\n",
    "    R[ni] /=  500\n",
    "    T[ni] /= 100\n",
    "\n",
    "s = empty(10,sphere) # an array of spheres for the planets and sun\n",
    "x = zeros(10,float)  # x position of each planet\n",
    "y = zeros(10,float)  # y position of each planet\n",
    "\n",
    "# Can customize colors of planets\n",
    "colors = empty(10,vector)\n",
    "colors[0] = color.magenta # Saturn\n",
    "colors[1] = color.orange  # Jupiter\n",
    "colors[2] = color.red     # Mars\n",
    "colors[3] = color.blue    # Earth\n",
    "colors[4] = color.green   # Venus\n",
    "colors[5] = color.magenta # Mercury\n",
    "colors[6] = color.yellow  # Sun\n",
    "#colors[7] = vector(1,4,1)\n",
    "#colors[8] = vector(1,5,1)\n",
    "#colors[9] = vector(1,6,1)\n",
    "\n",
    "# An idea I was trying!\n",
    "#for ni in range(0,len(R)):\n",
    "#    R[ni] = R[ni]/r[3]*cPlanet\n",
    "    \n",
    "c = canvas() # Must draw the canvas first.\n",
    "for n in range(0,len(R)):\n",
    "    if n == 1:\n",
    "        a=0 #1\n",
    "    else:\n",
    "        a=0\n",
    "    s[n] = sphere(pos=vector(r[n],a,0),radius=r[n],color=colors[n]) #.red) #,color=colors[n])\n",
    "\n",
    "# Compute the position of each planet and draw them\n",
    "# Trying only 3pi while I'm testing!\n",
    "for theta in arange(0,3*pi,0.1): #arange(0,10**3, 0.1): #5*pi,0.1):\n",
    "    rate(30)\n",
    "    for n in range(0,7):\n",
    "        rate(30)\n",
    "        x[n] = R[n]*cos(2*pi*theta/T[n])   #theta)\n",
    "        y[n] = R[n]*sin(2*pi*theta/T[n])   #theta)\n",
    "        s[n].pos = vector(x[n],y[n],0)\n",
    "# Why is my sun at the outer edge of the Solar System? Need to investigate.\n"
   ]
  }
 ],
 "metadata": {
  "kernelspec": {
   "display_name": "Python 3 (ipykernel)",
   "language": "python",
   "name": "python3"
  },
  "language_info": {
   "codemirror_mode": {
    "name": "ipython",
    "version": 3
   },
   "file_extension": ".py",
   "mimetype": "text/x-python",
   "name": "python",
   "nbconvert_exporter": "python",
   "pygments_lexer": "ipython3",
   "version": "3.8.15"
  }
 },
 "nbformat": 4,
 "nbformat_minor": 5
}
